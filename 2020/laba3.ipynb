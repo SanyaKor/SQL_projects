{
 "cells": [
  {
   "cell_type": "markdown",
   "metadata": {
    "collapsed": true
   },
   "source": [
    "# Домашнее задание 2 \n",
    "\n",
    "Необходимо реализовать схему, указанную в hw_diagram.pdf \n"
   ]
  },
  {
   "cell_type": "markdown",
   "metadata": {},
   "source": [
    "## Описание таблиц \n",
    "PeopleStatus - Описание возможных статусов людей, которые есть в университете (Студент, Преподаватель).\n",
    "Faculties - Описание факультетов, которые есть в университете (KIB, IT, и т.д.).\n",
    "People - Информация о людях в университете (Имя, почта, ссылка на факультет, ссылка на статус).\n",
    "Classes - Описание возможных классов в университете (название (Математический анализ) и ссылка на факультет).\n",
    "Semesters - Справочник семестров факультета(например, Осень2016, '2016-01-01', '2016-12-31').\n",
    "ClassesSchedule - Расписание классов (ссылки на семестр, преподавателя и курс, день недели, время начала).\n",
    "StudentsSchedule - Таблица, описывающая, какой студент ходит на какой курс."
   ]
  },
  {
   "cell_type": "code",
   "execution_count": 1,
   "metadata": {},
   "outputs": [
    {
     "data": {
      "text/plain": [
       "'Connected: @None'"
      ]
     },
     "execution_count": 1,
     "metadata": {},
     "output_type": "execute_result"
    }
   ],
   "source": [
    "%load_ext sql\n",
    "%sql sqlite://"
   ]
  },
  {
   "cell_type": "code",
   "execution_count": 2,
   "metadata": {},
   "outputs": [
    {
     "name": "stdout",
     "output_type": "stream",
     "text": [
      " * sqlite://\n",
      "Done.\n"
     ]
    },
    {
     "data": {
      "text/plain": [
       "[]"
      ]
     },
     "execution_count": 2,
     "metadata": {},
     "output_type": "execute_result"
    }
   ],
   "source": [
    "%%sql\n",
    "PRAGMA foreign_keys = ON;"
   ]
  },
  {
   "cell_type": "markdown",
   "metadata": {},
   "source": [
    "## Создание таблиц\n",
    "Напишет ниже скрипты по созданию таблиц с учетом всех внешних ключей."
   ]
  },
  {
   "cell_type": "code",
   "execution_count": 3,
   "metadata": {},
   "outputs": [
    {
     "name": "stdout",
     "output_type": "stream",
     "text": [
      " * sqlite://\n",
      "Done.\n",
      "Done.\n"
     ]
    },
    {
     "data": {
      "text/plain": [
       "[]"
      ]
     },
     "execution_count": 3,
     "metadata": {},
     "output_type": "execute_result"
    }
   ],
   "source": [
    "%%sql \n",
    "DROP TABLE IF EXISTS Semesters;\n",
    "CREATE TABLE Semesters\n",
    "(\n",
    "    id integer(0,0) NOT NULL primary key, \n",
    "    shortname varchar(0,0) NOT NULL,\n",
    "    date_start date(0,0) NOT NULL,\n",
    "    date_end date(0,0) NOT NULL\n",
    ");"
   ]
  },
  {
   "cell_type": "code",
   "execution_count": 4,
   "metadata": {},
   "outputs": [
    {
     "name": "stdout",
     "output_type": "stream",
     "text": [
      " * sqlite://\n",
      "Done.\n",
      "Done.\n"
     ]
    },
    {
     "data": {
      "text/plain": [
       "[]"
      ]
     },
     "execution_count": 4,
     "metadata": {},
     "output_type": "execute_result"
    }
   ],
   "source": [
    "%%sql \n",
    "DROP TABLE IF EXISTS Classes;\n",
    "CREATE TABLE Classes\n",
    "(\n",
    "    id integer(0,0) NOT NULL primary key, \n",
    "    description varchar(0,0)NOT NULL ,\n",
    "    fac_id integer(0,0) NOT NULL,\n",
    "    FOREIGN KEY (fac_id) REFERENCES Faculties(id)\n",
    ");"
   ]
  },
  {
   "cell_type": "code",
   "execution_count": 5,
   "metadata": {},
   "outputs": [
    {
     "name": "stdout",
     "output_type": "stream",
     "text": [
      " * sqlite://\n",
      "Done.\n",
      "Done.\n"
     ]
    },
    {
     "data": {
      "text/plain": [
       "[]"
      ]
     },
     "execution_count": 5,
     "metadata": {},
     "output_type": "execute_result"
    }
   ],
   "source": [
    "%%sql \n",
    "DROP TABLE IF EXISTS Faculties;\n",
    "CREATE TABLE Faculties\n",
    "(\n",
    "    id integer(0,0) NOT NULL primary key, \n",
    "    name varchar(0,0)  NOT NULL\n",
    ");"
   ]
  },
  {
   "cell_type": "code",
   "execution_count": 6,
   "metadata": {},
   "outputs": [
    {
     "name": "stdout",
     "output_type": "stream",
     "text": [
      " * sqlite://\n",
      "Done.\n",
      "Done.\n"
     ]
    },
    {
     "data": {
      "text/plain": [
       "[]"
      ]
     },
     "execution_count": 6,
     "metadata": {},
     "output_type": "execute_result"
    }
   ],
   "source": [
    "%%sql \n",
    "DROP TABLE IF EXISTS People;\n",
    "CREATE TABLE People\n",
    "(\n",
    "    id integer(0,0)NOT NULL primary key, \n",
    "    name varchar(0,0)NOT NULL,\n",
    "    email varchar(0,0),\n",
    "    fac_id integer(0,0)NOT NULL,\n",
    "    status_id integer(0,0)NOT NULL ,\n",
    "    FOREIGN KEY (fac_id) REFERENCES Faculties(id)\n",
    "    FOREIGN KEY (status_id) REFERENCES PeopleStatus(id)\n",
    ");"
   ]
  },
  {
   "cell_type": "code",
   "execution_count": 7,
   "metadata": {},
   "outputs": [
    {
     "name": "stdout",
     "output_type": "stream",
     "text": [
      " * sqlite://\n",
      "Done.\n",
      "Done.\n"
     ]
    },
    {
     "data": {
      "text/plain": [
       "[]"
      ]
     },
     "execution_count": 7,
     "metadata": {},
     "output_type": "execute_result"
    }
   ],
   "source": [
    "%%sql \n",
    "DROP TABLE IF EXISTS ClassesSchedule;\n",
    "CREATE TABLE ClassesSchedule\n",
    "(\n",
    "    id integer(0,0)  primary key, \n",
    "    class_id integer(0,0) NOT NULL,\n",
    "    teacher_id integer(0,0) NOT NULL,\n",
    "    semester_id integer(0,0) NOT NULL,\n",
    "    week_day integer(0,0) NOT NULL,\n",
    "    time_start varchar(0,0) NOT NULL,\n",
    "    FOREIGN KEY (class_id) REFERENCES Classes(id)\n",
    "    FOREIGN KEY (semester_id) REFERENCES Semesters(id)\n",
    "    FOREIGN KEY (teacher_id) REFERENCES People(id)\n",
    ");"
   ]
  },
  {
   "cell_type": "code",
   "execution_count": 8,
   "metadata": {},
   "outputs": [
    {
     "name": "stdout",
     "output_type": "stream",
     "text": [
      " * sqlite://\n",
      "Done.\n",
      "Done.\n"
     ]
    },
    {
     "data": {
      "text/plain": [
       "[]"
      ]
     },
     "execution_count": 8,
     "metadata": {},
     "output_type": "execute_result"
    }
   ],
   "source": [
    "%%sql \n",
    "DROP TABLE IF EXISTS StudentsSchedule;\n",
    "CREATE TABLE StudentsSchedule\n",
    "(\n",
    "    student_id integer(0,0)NOT NULL,\n",
    "    classesschedule_id integer(0,0)NOT NULL,\n",
    "    primary key (student_id,classesschedule_id)\n",
    "    FOREIGN KEY (classesschedule_id) REFERENCES ClassesSchedule(id)\n",
    "    FOREIGN KEY (student_id) REFERENCES People(id)\n",
    ");"
   ]
  },
  {
   "cell_type": "code",
   "execution_count": 9,
   "metadata": {},
   "outputs": [
    {
     "name": "stdout",
     "output_type": "stream",
     "text": [
      " * sqlite://\n",
      "Done.\n",
      "Done.\n"
     ]
    },
    {
     "data": {
      "text/plain": [
       "[]"
      ]
     },
     "execution_count": 9,
     "metadata": {},
     "output_type": "execute_result"
    }
   ],
   "source": [
    "%%sql \n",
    "DROP TABLE IF EXISTS Peoplestatus;\n",
    "CREATE TABLE Peoplestatus\n",
    "(\n",
    "    id integer(0,0) NOT NULL primary key, \n",
    "    name varchar(0,0) NOT NULL\n",
    ");"
   ]
  },
  {
   "cell_type": "markdown",
   "metadata": {},
   "source": [
    "## Добавление записей в таблицы\n",
    "Приведите примеры добавления записей в каждую из таблиц\n"
   ]
  },
  {
   "cell_type": "code",
   "execution_count": 10,
   "metadata": {},
   "outputs": [
    {
     "name": "stdout",
     "output_type": "stream",
     "text": [
      " * sqlite://\n",
      "1 rows affected.\n",
      "1 rows affected.\n",
      "1 rows affected.\n",
      "1 rows affected.\n"
     ]
    },
    {
     "data": {
      "text/plain": [
       "[]"
      ]
     },
     "execution_count": 10,
     "metadata": {},
     "output_type": "execute_result"
    }
   ],
   "source": [
    "%%sql\n",
    "insert Into Peoplestatus(id, name) VALUES (1, 'student');\n",
    "insert Into Peoplestatus(id, name) VALUES (2, 'teacher');\n",
    "insert Into Peoplestatus(id, name) VALUES (3, 'postgraduate');\n",
    "insert Into Peoplestatus(id, name) VALUES (4, 'undergraduates');"
   ]
  },
  {
   "cell_type": "code",
   "execution_count": 11,
   "metadata": {},
   "outputs": [
    {
     "name": "stdout",
     "output_type": "stream",
     "text": [
      " * sqlite://\n",
      "1 rows affected.\n",
      "1 rows affected.\n",
      "1 rows affected.\n",
      "1 rows affected.\n"
     ]
    },
    {
     "data": {
      "text/plain": [
       "[]"
      ]
     },
     "execution_count": 11,
     "metadata": {},
     "output_type": "execute_result"
    }
   ],
   "source": [
    "%%sql\n",
    "insert Into Faculties(id, name) VALUES (1, 'KIB');\n",
    "insert Into Faculties(id, name) VALUES (2, 'IT');\n",
    "insert Into Faculties(id, name) VALUES (3, 'Economics');\n",
    "insert Into Faculties(id, name) VALUES (4, 'TXT');"
   ]
  },
  {
   "cell_type": "code",
   "execution_count": 12,
   "metadata": {},
   "outputs": [
    {
     "name": "stdout",
     "output_type": "stream",
     "text": [
      " * sqlite://\n",
      "1 rows affected.\n",
      "1 rows affected.\n",
      "1 rows affected.\n"
     ]
    },
    {
     "data": {
      "text/plain": [
       "[]"
      ]
     },
     "execution_count": 12,
     "metadata": {},
     "output_type": "execute_result"
    }
   ],
   "source": [
    "%%sql\n",
    "insert Into Semesters(id, shortname, date_start,date_end) VALUES (1, 'first', (01.09),(09.02));\n",
    "insert Into Semesters(id, shortname, date_start,date_end) VALUES (2, 'second', (10.02),(31.09));\n",
    "insert Into Semesters(id, shortname, date_start,date_end) VALUES (3, 'third',(1.09),(09.02));"
   ]
  },
  {
   "cell_type": "code",
   "execution_count": 13,
   "metadata": {},
   "outputs": [
    {
     "name": "stdout",
     "output_type": "stream",
     "text": [
      " * sqlite://\n",
      "1 rows affected.\n",
      "1 rows affected.\n",
      "1 rows affected.\n",
      "1 rows affected.\n",
      "1 rows affected.\n",
      "1 rows affected.\n",
      "1 rows affected.\n",
      "1 rows affected.\n"
     ]
    },
    {
     "data": {
      "text/plain": [
       "[]"
      ]
     },
     "execution_count": 13,
     "metadata": {},
     "output_type": "execute_result"
    }
   ],
   "source": [
    "%%sql\n",
    "insert Into Classes(id, description, fac_id) VALUES (1, 'Матан', 1);\n",
    "insert Into Classes(id, description, fac_id) VALUES (2, 'Линал', 1);\n",
    "insert Into Classes(id, description, fac_id) VALUES (3, 'Прога', 1);\n",
    "insert Into Classes(id, description, fac_id) VALUES (4, 'БД', 1);\n",
    "insert Into Classes(id, description, fac_id) VALUES (5, 'Дифуры', 1);\n",
    "insert Into Classes(id, description, fac_id) VALUES (6, 'Дифгем', 1);\n",
    "insert Into Classes(id, description, fac_id) VALUES (7, 'Методы Матана', 1);\n",
    "insert Into Classes(id, description, fac_id) VALUES (8, 'Дискра', 1);"
   ]
  },
  {
   "cell_type": "code",
   "execution_count": 14,
   "metadata": {},
   "outputs": [
    {
     "name": "stdout",
     "output_type": "stream",
     "text": [
      " * sqlite://\n",
      "1 rows affected.\n",
      "1 rows affected.\n",
      "1 rows affected.\n",
      "1 rows affected.\n",
      "1 rows affected.\n",
      "1 rows affected.\n",
      "1 rows affected.\n",
      "1 rows affected.\n",
      "1 rows affected.\n",
      "1 rows affected.\n",
      "1 rows affected.\n",
      "1 rows affected.\n"
     ]
    },
    {
     "data": {
      "text/plain": [
       "[]"
      ]
     },
     "execution_count": 14,
     "metadata": {},
     "output_type": "execute_result"
    }
   ],
   "source": [
    "%%sql\n",
    "insert Into People(id, name, email, fac_id, status_id) values (1, 'Danya','danya@mail.ru', 1, 1);\n",
    "insert Into People(id, name, email, fac_id, status_id) values (2, 'Tanya','tanya@mail.ru', 2, 3);\n",
    "insert Into People(id, name, email, fac_id, status_id) values (3, 'Sanya','tanya@mail.ru', 3, 4);\n",
    "insert Into People(id, name, email, fac_id, status_id) values (4, 'Stroganov Andrey Valentinovich','SAV@mail.ru', 1, 2);\n",
    "insert Into People(id, name, email, fac_id, status_id) values (5, 'Kchalaev Timur Sultanovich','KTS@mail.ru', 1, 2);\n",
    "insert Into People(id, name, email, fac_id, status_id) values (6, 'Shatina Albina Victorovna','SAV@mail.ru', 1, 2);\n",
    "insert Into People(id, name, email, fac_id, status_id) values (7, 'Bakanchev Nikita I','BNI@mail.ru', 1, 2);\n",
    "insert Into People(id, name, email, fac_id, status_id) values (8, 'Adamovich Olga Maratovna','AOM@mail.ru', 1, 2);\n",
    "insert Into People(id, name, email, fac_id, status_id) values (9, 'Shelepin Alexey Leonidovich','ALSH@mail.ru', 1, 2);\n",
    "insert Into People(id, name, email, fac_id, status_id) values (10, 'Parfenov Denis Vasilievich','PDV@mail.ru', 1, 2);\n",
    "insert Into People(id, name, email, fac_id, status_id) values (11, 'Anya','Anya@mail.ru', 1, 1);\n",
    "insert Into People(id, name, email, fac_id, status_id) values (12, 'Vanya','Vanya@mail.ru', 1, 1);"
   ]
  },
  {
   "cell_type": "code",
   "execution_count": 15,
   "metadata": {},
   "outputs": [
    {
     "name": "stdout",
     "output_type": "stream",
     "text": [
      " * sqlite://\n",
      "1 rows affected.\n",
      "1 rows affected.\n",
      "1 rows affected.\n",
      "1 rows affected.\n",
      "1 rows affected.\n",
      "1 rows affected.\n",
      "1 rows affected.\n"
     ]
    },
    {
     "data": {
      "text/plain": [
       "[]"
      ]
     },
     "execution_count": 15,
     "metadata": {},
     "output_type": "execute_result"
    }
   ],
   "source": [
    "%%sql\n",
    "insert Into ClassesSchedule(id,class_id,teacher_id,semester_id,week_day,time_start) VALUES (1, 1, 9, 1, 1, '9:00');\n",
    "insert Into ClassesSchedule(id,class_id,teacher_id,semester_id,week_day,time_start) VALUES (2, 4, 7, 1, 1, '10:30');\n",
    "insert Into ClassesSchedule(id,class_id,teacher_id,semester_id,week_day,time_start) VALUES (3, 6, 1, 1, 1, '13:10');\n",
    "insert Into ClassesSchedule(id,class_id,teacher_id,semester_id,week_day,time_start) VALUES (4, 8, 4, 1, 1, '14:50');\n",
    "insert Into ClassesSchedule(id,class_id,teacher_id,semester_id,week_day,time_start) VALUES (5, 5, 5, 1, 1, '16:30');\n",
    "insert Into ClassesSchedule(id,class_id,teacher_id,semester_id,week_day,time_start) VALUES (6, 7, 6, 1, 1, '18:00');\n",
    "insert Into ClassesSchedule(id,class_id,teacher_id,semester_id,week_day,time_start) VALUES (7, 3, 10, 1, 2, '13:10');"
   ]
  },
  {
   "cell_type": "code",
   "execution_count": 16,
   "metadata": {},
   "outputs": [
    {
     "name": "stdout",
     "output_type": "stream",
     "text": [
      " * sqlite://\n",
      "1 rows affected.\n",
      "1 rows affected.\n",
      "1 rows affected.\n",
      "1 rows affected.\n",
      "1 rows affected.\n",
      "1 rows affected.\n",
      "1 rows affected.\n",
      "1 rows affected.\n",
      "1 rows affected.\n",
      "1 rows affected.\n",
      "1 rows affected.\n",
      "1 rows affected.\n",
      "1 rows affected.\n",
      "1 rows affected.\n",
      "1 rows affected.\n"
     ]
    },
    {
     "data": {
      "text/plain": [
       "[]"
      ]
     },
     "execution_count": 16,
     "metadata": {},
     "output_type": "execute_result"
    }
   ],
   "source": [
    "%%sql\n",
    "insert Into StudentsSchedule(student_id,classesschedule_id) VALUES (1,1);\n",
    "insert Into StudentsSchedule(student_id,classesschedule_id) VALUES (1,2);\n",
    "insert Into StudentsSchedule(student_id,classesschedule_id) VALUES (1,3);\n",
    "insert Into StudentsSchedule(student_id,classesschedule_id) VALUES (1,4);\n",
    "insert Into StudentsSchedule(student_id,classesschedule_id) VALUES (1,5);\n",
    "insert Into StudentsSchedule(student_id,classesschedule_id) VALUES (1,6);\n",
    "insert Into StudentsSchedule(student_id,classesschedule_id) VALUES (1,7);\n",
    "insert Into StudentsSchedule(student_id,classesschedule_id) VALUES (11,1);\n",
    "insert Into StudentsSchedule(student_id,classesschedule_id) VALUES (11,3);\n",
    "insert Into StudentsSchedule(student_id,classesschedule_id) VALUES (11,5);\n",
    "insert Into StudentsSchedule(student_id,classesschedule_id) VALUES (11,4);\n",
    "insert Into StudentsSchedule(student_id,classesschedule_id) VALUES (12,2);\n",
    "insert Into StudentsSchedule(student_id,classesschedule_id) VALUES (12,7);\n",
    "insert Into StudentsSchedule(student_id,classesschedule_id) VALUES (12,3);\n",
    "insert Into StudentsSchedule(student_id,classesschedule_id) VALUES (12,6);"
   ]
  },
  {
   "cell_type": "code",
   "execution_count": 17,
   "metadata": {},
   "outputs": [
    {
     "name": "stdout",
     "output_type": "stream",
     "text": [
      " * sqlite://\n",
      "Done.\n"
     ]
    },
    {
     "data": {
      "text/html": [
       "<table>\n",
       "    <tr>\n",
       "        <th>id</th>\n",
       "        <th>name</th>\n",
       "        <th>email</th>\n",
       "        <th>fac_id</th>\n",
       "        <th>status_id</th>\n",
       "    </tr>\n",
       "    <tr>\n",
       "        <td>1</td>\n",
       "        <td>Danya</td>\n",
       "        <td>danya@mail.ru</td>\n",
       "        <td>1</td>\n",
       "        <td>1</td>\n",
       "    </tr>\n",
       "    <tr>\n",
       "        <td>2</td>\n",
       "        <td>Tanya</td>\n",
       "        <td>tanya@mail.ru</td>\n",
       "        <td>2</td>\n",
       "        <td>3</td>\n",
       "    </tr>\n",
       "    <tr>\n",
       "        <td>3</td>\n",
       "        <td>Sanya</td>\n",
       "        <td>tanya@mail.ru</td>\n",
       "        <td>3</td>\n",
       "        <td>4</td>\n",
       "    </tr>\n",
       "    <tr>\n",
       "        <td>4</td>\n",
       "        <td>Stroganov Andrey Valentinovich</td>\n",
       "        <td>SAV@mail.ru</td>\n",
       "        <td>1</td>\n",
       "        <td>2</td>\n",
       "    </tr>\n",
       "    <tr>\n",
       "        <td>5</td>\n",
       "        <td>Kchalaev Timur Sultanovich</td>\n",
       "        <td>KTS@mail.ru</td>\n",
       "        <td>1</td>\n",
       "        <td>2</td>\n",
       "    </tr>\n",
       "    <tr>\n",
       "        <td>6</td>\n",
       "        <td>Shatina Albina Victorovna</td>\n",
       "        <td>SAV@mail.ru</td>\n",
       "        <td>1</td>\n",
       "        <td>2</td>\n",
       "    </tr>\n",
       "    <tr>\n",
       "        <td>7</td>\n",
       "        <td>Bakanchev Nikita I</td>\n",
       "        <td>BNI@mail.ru</td>\n",
       "        <td>1</td>\n",
       "        <td>2</td>\n",
       "    </tr>\n",
       "    <tr>\n",
       "        <td>8</td>\n",
       "        <td>Adamovich Olga Maratovna</td>\n",
       "        <td>AOM@mail.ru</td>\n",
       "        <td>1</td>\n",
       "        <td>2</td>\n",
       "    </tr>\n",
       "    <tr>\n",
       "        <td>9</td>\n",
       "        <td>Shelepin Alexey Leonidovich</td>\n",
       "        <td>ALSH@mail.ru</td>\n",
       "        <td>1</td>\n",
       "        <td>2</td>\n",
       "    </tr>\n",
       "    <tr>\n",
       "        <td>10</td>\n",
       "        <td>Parfenov Denis Vasilievich</td>\n",
       "        <td>PDV@mail.ru</td>\n",
       "        <td>1</td>\n",
       "        <td>2</td>\n",
       "    </tr>\n",
       "    <tr>\n",
       "        <td>11</td>\n",
       "        <td>Anya</td>\n",
       "        <td>Anya@mail.ru</td>\n",
       "        <td>1</td>\n",
       "        <td>1</td>\n",
       "    </tr>\n",
       "    <tr>\n",
       "        <td>12</td>\n",
       "        <td>Vanya</td>\n",
       "        <td>Vanya@mail.ru</td>\n",
       "        <td>1</td>\n",
       "        <td>1</td>\n",
       "    </tr>\n",
       "</table>"
      ],
      "text/plain": [
       "[(1, 'Danya', 'danya@mail.ru', 1, 1),\n",
       " (2, 'Tanya', 'tanya@mail.ru', 2, 3),\n",
       " (3, 'Sanya', 'tanya@mail.ru', 3, 4),\n",
       " (4, 'Stroganov Andrey Valentinovich', 'SAV@mail.ru', 1, 2),\n",
       " (5, 'Kchalaev Timur Sultanovich', 'KTS@mail.ru', 1, 2),\n",
       " (6, 'Shatina Albina Victorovna', 'SAV@mail.ru', 1, 2),\n",
       " (7, 'Bakanchev Nikita I', 'BNI@mail.ru', 1, 2),\n",
       " (8, 'Adamovich Olga Maratovna', 'AOM@mail.ru', 1, 2),\n",
       " (9, 'Shelepin Alexey Leonidovich', 'ALSH@mail.ru', 1, 2),\n",
       " (10, 'Parfenov Denis Vasilievich', 'PDV@mail.ru', 1, 2),\n",
       " (11, 'Anya', 'Anya@mail.ru', 1, 1),\n",
       " (12, 'Vanya', 'Vanya@mail.ru', 1, 1)]"
      ]
     },
     "execution_count": 17,
     "metadata": {},
     "output_type": "execute_result"
    }
   ],
   "source": [
    "%%sql\n",
    "select* \n",
    "FROM People"
   ]
  },
  {
   "cell_type": "code",
   "execution_count": 18,
   "metadata": {},
   "outputs": [
    {
     "name": "stdout",
     "output_type": "stream",
     "text": [
      " * sqlite://\n",
      "Done.\n"
     ]
    },
    {
     "data": {
      "text/html": [
       "<table>\n",
       "    <tr>\n",
       "        <th>id</th>\n",
       "        <th>name</th>\n",
       "    </tr>\n",
       "    <tr>\n",
       "        <td>1</td>\n",
       "        <td>student</td>\n",
       "    </tr>\n",
       "    <tr>\n",
       "        <td>2</td>\n",
       "        <td>teacher</td>\n",
       "    </tr>\n",
       "    <tr>\n",
       "        <td>3</td>\n",
       "        <td>postgraduate</td>\n",
       "    </tr>\n",
       "    <tr>\n",
       "        <td>4</td>\n",
       "        <td>undergraduates</td>\n",
       "    </tr>\n",
       "</table>"
      ],
      "text/plain": [
       "[(1, 'student'), (2, 'teacher'), (3, 'postgraduate'), (4, 'undergraduates')]"
      ]
     },
     "execution_count": 18,
     "metadata": {},
     "output_type": "execute_result"
    }
   ],
   "source": [
    "%%sql\n",
    "select* \n",
    "FROM PeopleStatus"
   ]
  },
  {
   "cell_type": "code",
   "execution_count": 19,
   "metadata": {},
   "outputs": [
    {
     "name": "stdout",
     "output_type": "stream",
     "text": [
      " * sqlite://\n",
      "Done.\n"
     ]
    },
    {
     "data": {
      "text/html": [
       "<table>\n",
       "    <tr>\n",
       "        <th>id</th>\n",
       "        <th>name</th>\n",
       "    </tr>\n",
       "    <tr>\n",
       "        <td>1</td>\n",
       "        <td>KIB</td>\n",
       "    </tr>\n",
       "    <tr>\n",
       "        <td>2</td>\n",
       "        <td>IT</td>\n",
       "    </tr>\n",
       "    <tr>\n",
       "        <td>3</td>\n",
       "        <td>Economics</td>\n",
       "    </tr>\n",
       "    <tr>\n",
       "        <td>4</td>\n",
       "        <td>TXT</td>\n",
       "    </tr>\n",
       "</table>"
      ],
      "text/plain": [
       "[(1, 'KIB'), (2, 'IT'), (3, 'Economics'), (4, 'TXT')]"
      ]
     },
     "execution_count": 19,
     "metadata": {},
     "output_type": "execute_result"
    }
   ],
   "source": [
    "%%sql\n",
    "select* \n",
    "FROM Faculties"
   ]
  },
  {
   "cell_type": "code",
   "execution_count": 20,
   "metadata": {},
   "outputs": [
    {
     "name": "stdout",
     "output_type": "stream",
     "text": [
      " * sqlite://\n",
      "Done.\n"
     ]
    },
    {
     "data": {
      "text/html": [
       "<table>\n",
       "    <tr>\n",
       "        <th>id</th>\n",
       "        <th>shortname</th>\n",
       "        <th>date_start</th>\n",
       "        <th>date_end</th>\n",
       "    </tr>\n",
       "    <tr>\n",
       "        <td>1</td>\n",
       "        <td>first</td>\n",
       "        <td>1.09</td>\n",
       "        <td>9.02</td>\n",
       "    </tr>\n",
       "    <tr>\n",
       "        <td>2</td>\n",
       "        <td>second</td>\n",
       "        <td>10.02</td>\n",
       "        <td>31.09</td>\n",
       "    </tr>\n",
       "    <tr>\n",
       "        <td>3</td>\n",
       "        <td>third</td>\n",
       "        <td>1.09</td>\n",
       "        <td>9.02</td>\n",
       "    </tr>\n",
       "</table>"
      ],
      "text/plain": [
       "[(1, 'first', 1.09, 9.02),\n",
       " (2, 'second', 10.02, 31.09),\n",
       " (3, 'third', 1.09, 9.02)]"
      ]
     },
     "execution_count": 20,
     "metadata": {},
     "output_type": "execute_result"
    }
   ],
   "source": [
    "%%sql\n",
    "select* \n",
    "FROM Semesters"
   ]
  },
  {
   "cell_type": "code",
   "execution_count": 21,
   "metadata": {},
   "outputs": [
    {
     "name": "stdout",
     "output_type": "stream",
     "text": [
      " * sqlite://\n",
      "Done.\n"
     ]
    },
    {
     "data": {
      "text/html": [
       "<table>\n",
       "    <tr>\n",
       "        <th>student_id</th>\n",
       "        <th>classesschedule_id</th>\n",
       "    </tr>\n",
       "    <tr>\n",
       "        <td>1</td>\n",
       "        <td>1</td>\n",
       "    </tr>\n",
       "    <tr>\n",
       "        <td>1</td>\n",
       "        <td>2</td>\n",
       "    </tr>\n",
       "    <tr>\n",
       "        <td>1</td>\n",
       "        <td>3</td>\n",
       "    </tr>\n",
       "    <tr>\n",
       "        <td>1</td>\n",
       "        <td>4</td>\n",
       "    </tr>\n",
       "    <tr>\n",
       "        <td>1</td>\n",
       "        <td>5</td>\n",
       "    </tr>\n",
       "    <tr>\n",
       "        <td>1</td>\n",
       "        <td>6</td>\n",
       "    </tr>\n",
       "    <tr>\n",
       "        <td>1</td>\n",
       "        <td>7</td>\n",
       "    </tr>\n",
       "    <tr>\n",
       "        <td>11</td>\n",
       "        <td>1</td>\n",
       "    </tr>\n",
       "    <tr>\n",
       "        <td>11</td>\n",
       "        <td>3</td>\n",
       "    </tr>\n",
       "    <tr>\n",
       "        <td>11</td>\n",
       "        <td>5</td>\n",
       "    </tr>\n",
       "    <tr>\n",
       "        <td>11</td>\n",
       "        <td>4</td>\n",
       "    </tr>\n",
       "    <tr>\n",
       "        <td>12</td>\n",
       "        <td>2</td>\n",
       "    </tr>\n",
       "    <tr>\n",
       "        <td>12</td>\n",
       "        <td>7</td>\n",
       "    </tr>\n",
       "    <tr>\n",
       "        <td>12</td>\n",
       "        <td>3</td>\n",
       "    </tr>\n",
       "    <tr>\n",
       "        <td>12</td>\n",
       "        <td>6</td>\n",
       "    </tr>\n",
       "</table>"
      ],
      "text/plain": [
       "[(1, 1),\n",
       " (1, 2),\n",
       " (1, 3),\n",
       " (1, 4),\n",
       " (1, 5),\n",
       " (1, 6),\n",
       " (1, 7),\n",
       " (11, 1),\n",
       " (11, 3),\n",
       " (11, 5),\n",
       " (11, 4),\n",
       " (12, 2),\n",
       " (12, 7),\n",
       " (12, 3),\n",
       " (12, 6)]"
      ]
     },
     "execution_count": 21,
     "metadata": {},
     "output_type": "execute_result"
    }
   ],
   "source": [
    "%%sql\n",
    "select* \n",
    "FROM StudentsSchedule"
   ]
  },
  {
   "cell_type": "code",
   "execution_count": 22,
   "metadata": {},
   "outputs": [
    {
     "name": "stdout",
     "output_type": "stream",
     "text": [
      " * sqlite://\n",
      "Done.\n"
     ]
    },
    {
     "data": {
      "text/html": [
       "<table>\n",
       "    <tr>\n",
       "        <th>id</th>\n",
       "        <th>class_id</th>\n",
       "        <th>teacher_id</th>\n",
       "        <th>semester_id</th>\n",
       "        <th>week_day</th>\n",
       "        <th>time_start</th>\n",
       "    </tr>\n",
       "    <tr>\n",
       "        <td>1</td>\n",
       "        <td>1</td>\n",
       "        <td>9</td>\n",
       "        <td>1</td>\n",
       "        <td>1</td>\n",
       "        <td>9:00</td>\n",
       "    </tr>\n",
       "    <tr>\n",
       "        <td>2</td>\n",
       "        <td>4</td>\n",
       "        <td>7</td>\n",
       "        <td>1</td>\n",
       "        <td>1</td>\n",
       "        <td>10:30</td>\n",
       "    </tr>\n",
       "    <tr>\n",
       "        <td>3</td>\n",
       "        <td>6</td>\n",
       "        <td>1</td>\n",
       "        <td>1</td>\n",
       "        <td>1</td>\n",
       "        <td>13:10</td>\n",
       "    </tr>\n",
       "    <tr>\n",
       "        <td>4</td>\n",
       "        <td>8</td>\n",
       "        <td>4</td>\n",
       "        <td>1</td>\n",
       "        <td>1</td>\n",
       "        <td>14:50</td>\n",
       "    </tr>\n",
       "    <tr>\n",
       "        <td>5</td>\n",
       "        <td>5</td>\n",
       "        <td>5</td>\n",
       "        <td>1</td>\n",
       "        <td>1</td>\n",
       "        <td>16:30</td>\n",
       "    </tr>\n",
       "    <tr>\n",
       "        <td>6</td>\n",
       "        <td>7</td>\n",
       "        <td>6</td>\n",
       "        <td>1</td>\n",
       "        <td>1</td>\n",
       "        <td>18:00</td>\n",
       "    </tr>\n",
       "    <tr>\n",
       "        <td>7</td>\n",
       "        <td>3</td>\n",
       "        <td>10</td>\n",
       "        <td>1</td>\n",
       "        <td>2</td>\n",
       "        <td>13:10</td>\n",
       "    </tr>\n",
       "</table>"
      ],
      "text/plain": [
       "[(1, 1, 9, 1, 1, '9:00'),\n",
       " (2, 4, 7, 1, 1, '10:30'),\n",
       " (3, 6, 1, 1, 1, '13:10'),\n",
       " (4, 8, 4, 1, 1, '14:50'),\n",
       " (5, 5, 5, 1, 1, '16:30'),\n",
       " (6, 7, 6, 1, 1, '18:00'),\n",
       " (7, 3, 10, 1, 2, '13:10')]"
      ]
     },
     "execution_count": 22,
     "metadata": {},
     "output_type": "execute_result"
    }
   ],
   "source": [
    "%%sql\n",
    "select* \n",
    "FROM ClassesSchedule"
   ]
  },
  {
   "cell_type": "code",
   "execution_count": 23,
   "metadata": {},
   "outputs": [
    {
     "name": "stdout",
     "output_type": "stream",
     "text": [
      " * sqlite://\n",
      "Done.\n"
     ]
    },
    {
     "data": {
      "text/html": [
       "<table>\n",
       "    <tr>\n",
       "        <th>id</th>\n",
       "        <th>description</th>\n",
       "        <th>fac_id</th>\n",
       "    </tr>\n",
       "    <tr>\n",
       "        <td>1</td>\n",
       "        <td>Матан</td>\n",
       "        <td>1</td>\n",
       "    </tr>\n",
       "    <tr>\n",
       "        <td>2</td>\n",
       "        <td>Линал</td>\n",
       "        <td>1</td>\n",
       "    </tr>\n",
       "    <tr>\n",
       "        <td>3</td>\n",
       "        <td>Прога</td>\n",
       "        <td>1</td>\n",
       "    </tr>\n",
       "    <tr>\n",
       "        <td>4</td>\n",
       "        <td>БД</td>\n",
       "        <td>1</td>\n",
       "    </tr>\n",
       "    <tr>\n",
       "        <td>5</td>\n",
       "        <td>Дифуры</td>\n",
       "        <td>1</td>\n",
       "    </tr>\n",
       "    <tr>\n",
       "        <td>6</td>\n",
       "        <td>Дифгем</td>\n",
       "        <td>1</td>\n",
       "    </tr>\n",
       "    <tr>\n",
       "        <td>7</td>\n",
       "        <td>Методы Матана</td>\n",
       "        <td>1</td>\n",
       "    </tr>\n",
       "    <tr>\n",
       "        <td>8</td>\n",
       "        <td>Дискра</td>\n",
       "        <td>1</td>\n",
       "    </tr>\n",
       "</table>"
      ],
      "text/plain": [
       "[(1, 'Матан', 1),\n",
       " (2, 'Линал', 1),\n",
       " (3, 'Прога', 1),\n",
       " (4, 'БД', 1),\n",
       " (5, 'Дифуры', 1),\n",
       " (6, 'Дифгем', 1),\n",
       " (7, 'Методы Матана', 1),\n",
       " (8, 'Дискра', 1)]"
      ]
     },
     "execution_count": 23,
     "metadata": {},
     "output_type": "execute_result"
    }
   ],
   "source": [
    "%%sql\n",
    "select* \n",
    "FROM Classes"
   ]
  },
  {
   "cell_type": "code",
   "execution_count": 24,
   "metadata": {},
   "outputs": [
    {
     "name": "stdout",
     "output_type": "stream",
     "text": [
      " * sqlite://\n",
      "Done.\n"
     ]
    },
    {
     "data": {
      "text/html": [
       "<table>\n",
       "    <tr>\n",
       "        <th>name</th>\n",
       "        <th>name_1</th>\n",
       "        <th>shortname</th>\n",
       "        <th>time_start</th>\n",
       "        <th>description</th>\n",
       "    </tr>\n",
       "    <tr>\n",
       "        <td>Danya</td>\n",
       "        <td>KIB</td>\n",
       "        <td>first</td>\n",
       "        <td>9:00</td>\n",
       "        <td>Матан</td>\n",
       "    </tr>\n",
       "    <tr>\n",
       "        <td>Danya</td>\n",
       "        <td>KIB</td>\n",
       "        <td>first</td>\n",
       "        <td>10:30</td>\n",
       "        <td>БД</td>\n",
       "    </tr>\n",
       "    <tr>\n",
       "        <td>Danya</td>\n",
       "        <td>KIB</td>\n",
       "        <td>first</td>\n",
       "        <td>13:10</td>\n",
       "        <td>Дифгем</td>\n",
       "    </tr>\n",
       "    <tr>\n",
       "        <td>Danya</td>\n",
       "        <td>KIB</td>\n",
       "        <td>first</td>\n",
       "        <td>14:50</td>\n",
       "        <td>Дискра</td>\n",
       "    </tr>\n",
       "    <tr>\n",
       "        <td>Danya</td>\n",
       "        <td>KIB</td>\n",
       "        <td>first</td>\n",
       "        <td>16:30</td>\n",
       "        <td>Дифуры</td>\n",
       "    </tr>\n",
       "    <tr>\n",
       "        <td>Danya</td>\n",
       "        <td>KIB</td>\n",
       "        <td>first</td>\n",
       "        <td>18:00</td>\n",
       "        <td>Методы Матана</td>\n",
       "    </tr>\n",
       "    <tr>\n",
       "        <td>Danya</td>\n",
       "        <td>KIB</td>\n",
       "        <td>first</td>\n",
       "        <td>13:10</td>\n",
       "        <td>Прога</td>\n",
       "    </tr>\n",
       "    <tr>\n",
       "        <td>Anya</td>\n",
       "        <td>KIB</td>\n",
       "        <td>first</td>\n",
       "        <td>9:00</td>\n",
       "        <td>Матан</td>\n",
       "    </tr>\n",
       "    <tr>\n",
       "        <td>Anya</td>\n",
       "        <td>KIB</td>\n",
       "        <td>first</td>\n",
       "        <td>13:10</td>\n",
       "        <td>Дифгем</td>\n",
       "    </tr>\n",
       "    <tr>\n",
       "        <td>Anya</td>\n",
       "        <td>KIB</td>\n",
       "        <td>first</td>\n",
       "        <td>16:30</td>\n",
       "        <td>Дифуры</td>\n",
       "    </tr>\n",
       "    <tr>\n",
       "        <td>Anya</td>\n",
       "        <td>KIB</td>\n",
       "        <td>first</td>\n",
       "        <td>14:50</td>\n",
       "        <td>Дискра</td>\n",
       "    </tr>\n",
       "    <tr>\n",
       "        <td>Vanya</td>\n",
       "        <td>KIB</td>\n",
       "        <td>first</td>\n",
       "        <td>10:30</td>\n",
       "        <td>БД</td>\n",
       "    </tr>\n",
       "    <tr>\n",
       "        <td>Vanya</td>\n",
       "        <td>KIB</td>\n",
       "        <td>first</td>\n",
       "        <td>13:10</td>\n",
       "        <td>Прога</td>\n",
       "    </tr>\n",
       "    <tr>\n",
       "        <td>Vanya</td>\n",
       "        <td>KIB</td>\n",
       "        <td>first</td>\n",
       "        <td>13:10</td>\n",
       "        <td>Дифгем</td>\n",
       "    </tr>\n",
       "    <tr>\n",
       "        <td>Vanya</td>\n",
       "        <td>KIB</td>\n",
       "        <td>first</td>\n",
       "        <td>18:00</td>\n",
       "        <td>Методы Матана</td>\n",
       "    </tr>\n",
       "</table>"
      ],
      "text/plain": [
       "[('Danya', 'KIB', 'first', '9:00', 'Матан'),\n",
       " ('Danya', 'KIB', 'first', '10:30', 'БД'),\n",
       " ('Danya', 'KIB', 'first', '13:10', 'Дифгем'),\n",
       " ('Danya', 'KIB', 'first', '14:50', 'Дискра'),\n",
       " ('Danya', 'KIB', 'first', '16:30', 'Дифуры'),\n",
       " ('Danya', 'KIB', 'first', '18:00', 'Методы Матана'),\n",
       " ('Danya', 'KIB', 'first', '13:10', 'Прога'),\n",
       " ('Anya', 'KIB', 'first', '9:00', 'Матан'),\n",
       " ('Anya', 'KIB', 'first', '13:10', 'Дифгем'),\n",
       " ('Anya', 'KIB', 'first', '16:30', 'Дифуры'),\n",
       " ('Anya', 'KIB', 'first', '14:50', 'Дискра'),\n",
       " ('Vanya', 'KIB', 'first', '10:30', 'БД'),\n",
       " ('Vanya', 'KIB', 'first', '13:10', 'Прога'),\n",
       " ('Vanya', 'KIB', 'first', '13:10', 'Дифгем'),\n",
       " ('Vanya', 'KIB', 'first', '18:00', 'Методы Матана')]"
      ]
     },
     "execution_count": 24,
     "metadata": {},
     "output_type": "execute_result"
    }
   ],
   "source": [
    "%%sql\n",
    "select pe.name, fa.name, se.shortname, cl_sh.time_start,cl.description\n",
    "from StudentsSchedule st_sc\n",
    "join ClassesSchedule cl_sh on st_sc.classesschedule_id = cl_sh.id\n",
    "join Classes cl on cl_sh.class_id = cl.id\n",
    "join Semesters se on cl_sh.semester_id = se.id\n",
    "join People pe on st_sc.student_id = pe.id\n",
    "join People peo on cl_sh.teacher_id = peo.id\n",
    "join Faculties fa on pe.fac_id = fa.id\n",
    "join PeopleStatus pe_st on pe.status_id = pe_st.id"
   ]
  },
  {
   "cell_type": "code",
   "execution_count": null,
   "metadata": {},
   "outputs": [],
   "source": []
  }
 ],
 "metadata": {
  "kernelspec": {
   "display_name": "Python 3",
   "language": "python",
   "name": "python3"
  },
  "language_info": {
   "codemirror_mode": {
    "name": "ipython",
    "version": 3
   },
   "file_extension": ".py",
   "mimetype": "text/x-python",
   "name": "python",
   "nbconvert_exporter": "python",
   "pygments_lexer": "ipython3",
   "version": "3.7.3"
  }
 },
 "nbformat": 4,
 "nbformat_minor": 2
}
