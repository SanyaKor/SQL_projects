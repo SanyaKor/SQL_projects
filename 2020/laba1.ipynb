{
 "cells": [
  {
   "cell_type": "code",
   "execution_count": 1,
   "metadata": {},
   "outputs": [
    {
     "data": {
      "text/plain": [
       "'Connected: @None'"
      ]
     },
     "execution_count": 1,
     "metadata": {},
     "output_type": "execute_result"
    }
   ],
   "source": [
    "%load_ext sql\n",
    "%sql sqlite://"
   ]
  },
  {
   "cell_type": "markdown",
   "metadata": {},
   "source": [
    "# Задание 1 \n",
    "\n",
    "Рассмотрим 2 таблицы\n",
    "\n",
    "A\n",
    "\n",
    "|   name  |  key   | value\n",
    "|---------|--------- | ----\n",
    "| Ivanov  |   FIO  |  Иванов Иван Иванович\n",
    "| Ivanov  | Phone  |  +(7) 111-1111111\n",
    "| Ivanov  | email  | ivanov@ivanov.com\n",
    "| Petrov  |   FIO  | Петров Петр Петрович\n",
    "| Petrov  | Phone  |  +(7) 222-2222222\n",
    "| Petrov  | email  | petrov@petrov.com\n",
    "\n",
    "B\n",
    "\n",
    "|   name  |  FIO   | Phone | email\n",
    "|---------|---------|------|---\n",
    "| Ivanov  | Иванов Иван Иванович | +(7) 111-1111111 | ivanov@ivanov.com\n",
    "| Petrov  | Петров Петр Петрович | +(7) 222-2222222 | petrov@petrov.com\n",
    "\n",
    "\n",
    "1. Как из таблицы A получить B?\n",
    "2. Как из таблицы B получить A?\n"
   ]
  },
  {
   "cell_type": "code",
   "execution_count": 2,
   "metadata": {},
   "outputs": [
    {
     "name": "stdout",
     "output_type": "stream",
     "text": [
      " * sqlite://\n",
      "Done.\n"
     ]
    },
    {
     "data": {
      "text/plain": [
       "[]"
      ]
     },
     "execution_count": 2,
     "metadata": {},
     "output_type": "execute_result"
    }
   ],
   "source": [
    "%%sql\n",
    "DROP TABLE IF EXISTS TableA"
   ]
  },
  {
   "cell_type": "code",
   "execution_count": 3,
   "metadata": {},
   "outputs": [
    {
     "name": "stdout",
     "output_type": "stream",
     "text": [
      " * sqlite://\n",
      "Done.\n"
     ]
    },
    {
     "data": {
      "text/plain": [
       "[]"
      ]
     },
     "execution_count": 3,
     "metadata": {},
     "output_type": "execute_result"
    }
   ],
   "source": [
    "%%sql\n",
    "CREATE TABLE TableA\n",
    "(\n",
    "    name varchar(50),\n",
    "    key varchar(50),\n",
    "    value varchar(50),\n",
    "    CONSTRAINT new_pk PRIMARY KEY (name, key)\n",
    ")"
   ]
  },
  {
   "cell_type": "code",
   "execution_count": 4,
   "metadata": {},
   "outputs": [
    {
     "name": "stdout",
     "output_type": "stream",
     "text": [
      " * sqlite://\n",
      "1 rows affected.\n",
      "1 rows affected.\n",
      "1 rows affected.\n",
      "1 rows affected.\n",
      "1 rows affected.\n",
      "1 rows affected.\n"
     ]
    },
    {
     "data": {
      "text/plain": [
       "[]"
      ]
     },
     "execution_count": 4,
     "metadata": {},
     "output_type": "execute_result"
    }
   ],
   "source": [
    "%%sql\n",
    "INSERT INTO TableA (name, key, value) VALUES ('Ivanov', 'FIO', 'Иванов Иван Иванович');\n",
    "INSERT INTO TableA (name, key, value) VALUES ('Ivanov', 'Phone', '+(7) 111-1111111');\n",
    "INSERT INTO TableA (name, key, value) VALUES ('Ivanov', 'email', 'ivanov@ivanov.com');\n",
    "INSERT INTO TableA (name, key, value) VALUES ('Petrov', 'FIO', 'Петров Петр Петрович');\n",
    "INSERT INTO TableA (name, key, value) VALUES ('Petrov', 'Phone', '+(7) 222-2222222');\n",
    "INSERT INTO TableA (name, key, value) VALUES ('Petrov', 'email', 'petrov@petrov.com');"
   ]
  },
  {
   "cell_type": "code",
   "execution_count": 5,
   "metadata": {},
   "outputs": [
    {
     "name": "stdout",
     "output_type": "stream",
     "text": [
      " * sqlite://\n",
      "Done.\n"
     ]
    },
    {
     "data": {
      "text/html": [
       "<table>\n",
       "    <tr>\n",
       "        <th>name</th>\n",
       "        <th>key</th>\n",
       "        <th>value</th>\n",
       "    </tr>\n",
       "    <tr>\n",
       "        <td>Ivanov</td>\n",
       "        <td>FIO</td>\n",
       "        <td>Иванов Иван Иванович</td>\n",
       "    </tr>\n",
       "    <tr>\n",
       "        <td>Ivanov</td>\n",
       "        <td>Phone</td>\n",
       "        <td>+(7) 111-1111111</td>\n",
       "    </tr>\n",
       "    <tr>\n",
       "        <td>Ivanov</td>\n",
       "        <td>email</td>\n",
       "        <td>ivanov@ivanov.com</td>\n",
       "    </tr>\n",
       "    <tr>\n",
       "        <td>Petrov</td>\n",
       "        <td>FIO</td>\n",
       "        <td>Петров Петр Петрович</td>\n",
       "    </tr>\n",
       "    <tr>\n",
       "        <td>Petrov</td>\n",
       "        <td>Phone</td>\n",
       "        <td>+(7) 222-2222222</td>\n",
       "    </tr>\n",
       "    <tr>\n",
       "        <td>Petrov</td>\n",
       "        <td>email</td>\n",
       "        <td>petrov@petrov.com</td>\n",
       "    </tr>\n",
       "</table>"
      ],
      "text/plain": [
       "[('Ivanov', 'FIO', 'Иванов Иван Иванович'),\n",
       " ('Ivanov', 'Phone', '+(7) 111-1111111'),\n",
       " ('Ivanov', 'email', 'ivanov@ivanov.com'),\n",
       " ('Petrov', 'FIO', 'Петров Петр Петрович'),\n",
       " ('Petrov', 'Phone', '+(7) 222-2222222'),\n",
       " ('Petrov', 'email', 'petrov@petrov.com')]"
      ]
     },
     "execution_count": 5,
     "metadata": {},
     "output_type": "execute_result"
    }
   ],
   "source": [
    "%%sql\n",
    "SELECT *\n",
    "FROM TableA"
   ]
  },
  {
   "cell_type": "code",
   "execution_count": 6,
   "metadata": {},
   "outputs": [
    {
     "name": "stdout",
     "output_type": "stream",
     "text": [
      " * sqlite://\n",
      "Done.\n"
     ]
    },
    {
     "data": {
      "text/html": [
       "<table>\n",
       "    <tr>\n",
       "        <th>value</th>\n",
       "    </tr>\n",
       "    <tr>\n",
       "        <td>Иванов Иван Иванович</td>\n",
       "    </tr>\n",
       "    <tr>\n",
       "        <td>Петров Петр Петрович</td>\n",
       "    </tr>\n",
       "</table>"
      ],
      "text/plain": [
       "[('Иванов Иван Иванович',), ('Петров Петр Петрович',)]"
      ]
     },
     "execution_count": 6,
     "metadata": {},
     "output_type": "execute_result"
    }
   ],
   "source": [
    "%%sql\n",
    "\n",
    "SELECT value\n",
    "               FROM TableA\n",
    "               WHERE key = 'FIO'"
   ]
  },
  {
   "cell_type": "code",
   "execution_count": 7,
   "metadata": {},
   "outputs": [
    {
     "name": "stdout",
     "output_type": "stream",
     "text": [
      " * sqlite://\n",
      "Done.\n"
     ]
    },
    {
     "data": {
      "text/html": [
       "<table>\n",
       "    <tr>\n",
       "        <th>NAME</th>\n",
       "        <th>FIO</th>\n",
       "        <th>Phone</th>\n",
       "        <th>email</th>\n",
       "    </tr>\n",
       "    <tr>\n",
       "        <td>Ivanov</td>\n",
       "        <td>Иванов Иван Иванович</td>\n",
       "        <td>+(7) 111-1111111</td>\n",
       "        <td>ivanov@ivanov.com</td>\n",
       "    </tr>\n",
       "    <tr>\n",
       "        <td>Petrov</td>\n",
       "        <td>Петров Петр Петрович</td>\n",
       "        <td>+(7) 222-2222222</td>\n",
       "        <td>petrov@petrov.com</td>\n",
       "    </tr>\n",
       "</table>"
      ],
      "text/plain": [
       "[('Ivanov', 'Иванов Иван Иванович', '+(7) 111-1111111', 'ivanov@ivanov.com'),\n",
       " ('Petrov', 'Петров Петр Петрович', '+(7) 222-2222222', 'petrov@petrov.com')]"
      ]
     },
     "execution_count": 7,
     "metadata": {},
     "output_type": "execute_result"
    }
   ],
   "source": [
    "%%sql\n",
    "\n",
    "WITH \n",
    "Tname AS (SELECT DISTINCT name\n",
    "          FROM TableA),\n",
    "TFIO AS (SELECT name, value\n",
    "         FROM TableA\n",
    "         WHERE key = 'FIO'),\n",
    "TPhone AS (SELECT name, value\n",
    "           FROM TableA\n",
    "           WHERE key = 'Phone'),\n",
    "Temail AS (SELECT name, value\n",
    "           FROM TableA\n",
    "           WHERE key = 'email')\n",
    "\n",
    "SELECT TN.name AS NAME, TF.value AS FIO, TP.value AS Phone, TE.value AS email\n",
    "FROM Tname AS TN\n",
    "INNER JOIN TFIO AS TF ON TN.name = TF.name\n",
    "INNER JOIN TPhone AS TP ON TN.name = TP.name\n",
    "INNER JOIN Temail AS TE ON TN.name = TE.name\n",
    "\n",
    "    "
   ]
  },
  {
   "cell_type": "code",
   "execution_count": 8,
   "metadata": {},
   "outputs": [
    {
     "name": "stdout",
     "output_type": "stream",
     "text": [
      " * sqlite://\n",
      "Done.\n"
     ]
    },
    {
     "data": {
      "text/html": [
       "<table>\n",
       "    <tr>\n",
       "        <th>NAME</th>\n",
       "        <th>FIO</th>\n",
       "        <th>Phone</th>\n",
       "        <th>email</th>\n",
       "    </tr>\n",
       "    <tr>\n",
       "        <td>Ivanov</td>\n",
       "        <td>Иванов Иван Иванович</td>\n",
       "        <td>+(7) 111-1111111</td>\n",
       "        <td>ivanov@ivanov.com</td>\n",
       "    </tr>\n",
       "    <tr>\n",
       "        <td>Petrov</td>\n",
       "        <td>Петров Петр Петрович</td>\n",
       "        <td>+(7) 222-2222222</td>\n",
       "        <td>petrov@petrov.com</td>\n",
       "    </tr>\n",
       "</table>"
      ],
      "text/plain": [
       "[('Ivanov', 'Иванов Иван Иванович', '+(7) 111-1111111', 'ivanov@ivanov.com'),\n",
       " ('Petrov', 'Петров Петр Петрович', '+(7) 222-2222222', 'petrov@petrov.com')]"
      ]
     },
     "execution_count": 8,
     "metadata": {},
     "output_type": "execute_result"
    }
   ],
   "source": [
    "%%sql\n",
    "\n",
    "WITH \n",
    "Tname AS (SELECT DISTINCT name\n",
    "          FROM TableA),\n",
    "TFIO AS (SELECT name, value\n",
    "         FROM TableA\n",
    "         WHERE key = 'FIO'),\n",
    "TPhone AS (SELECT name, value\n",
    "           FROM TableA\n",
    "           WHERE key = 'Phone'),\n",
    "Temail AS (SELECT name, value\n",
    "           FROM TableA\n",
    "           WHERE key = 'email')\n",
    "\n",
    "SELECT TN.name AS NAME, TF.value AS FIO, TP.value AS Phone, TE.value AS email\n",
    "FROM Tname AS TN, TFIO AS TF, TPhone AS TP, Temail AS TE\n",
    "WHERE TN.name = TF.name\n",
    "AND TN.name = TP.name\n",
    "AND TN.name = TE.name"
   ]
  },
  {
   "cell_type": "code",
   "execution_count": 9,
   "metadata": {},
   "outputs": [
    {
     "name": "stdout",
     "output_type": "stream",
     "text": [
      " * sqlite://\n",
      "Done.\n"
     ]
    },
    {
     "data": {
      "text/plain": [
       "[]"
      ]
     },
     "execution_count": 9,
     "metadata": {},
     "output_type": "execute_result"
    }
   ],
   "source": [
    "%%sql\n",
    "DROP TABLE IF EXISTS TableB"
   ]
  },
  {
   "cell_type": "code",
   "execution_count": 10,
   "metadata": {},
   "outputs": [
    {
     "name": "stdout",
     "output_type": "stream",
     "text": [
      " * sqlite://\n",
      "Done.\n"
     ]
    },
    {
     "data": {
      "text/plain": [
       "[]"
      ]
     },
     "execution_count": 10,
     "metadata": {},
     "output_type": "execute_result"
    }
   ],
   "source": [
    "%%sql\n",
    "CREATE TABLE TableB\n",
    "(\n",
    "    name varchar(50) PRIMARY KEY,\n",
    "    FIO varchar(50),\n",
    "    Phone varchar(50),\n",
    "    email varchar(50)\n",
    ")"
   ]
  },
  {
   "cell_type": "code",
   "execution_count": 11,
   "metadata": {},
   "outputs": [
    {
     "name": "stdout",
     "output_type": "stream",
     "text": [
      " * sqlite://\n",
      "1 rows affected.\n",
      "1 rows affected.\n"
     ]
    },
    {
     "data": {
      "text/plain": [
       "[]"
      ]
     },
     "execution_count": 11,
     "metadata": {},
     "output_type": "execute_result"
    }
   ],
   "source": [
    "%%sql\n",
    "INSERT INTO TableB (name, FIO, Phone, email) VALUES ('Ivanov', 'Иванов Иван Иванович', '+(7) 111-1111111','ivanov@ivanov.com');\n",
    "INSERT INTO TableB (name, FIO, Phone, email)  VALUES ('Petrov', 'Петров Петр Петрович', '+(7) 222-2222222', 'petrov@petrov.com');"
   ]
  },
  {
   "cell_type": "code",
   "execution_count": 12,
   "metadata": {},
   "outputs": [
    {
     "name": "stdout",
     "output_type": "stream",
     "text": [
      " * sqlite://\n",
      "Done.\n"
     ]
    },
    {
     "data": {
      "text/html": [
       "<table>\n",
       "    <tr>\n",
       "        <th>name</th>\n",
       "        <th>FIO</th>\n",
       "        <th>Phone</th>\n",
       "        <th>email</th>\n",
       "    </tr>\n",
       "    <tr>\n",
       "        <td>Ivanov</td>\n",
       "        <td>Иванов Иван Иванович</td>\n",
       "        <td>+(7) 111-1111111</td>\n",
       "        <td>ivanov@ivanov.com</td>\n",
       "    </tr>\n",
       "    <tr>\n",
       "        <td>Petrov</td>\n",
       "        <td>Петров Петр Петрович</td>\n",
       "        <td>+(7) 222-2222222</td>\n",
       "        <td>petrov@petrov.com</td>\n",
       "    </tr>\n",
       "</table>"
      ],
      "text/plain": [
       "[('Ivanov', 'Иванов Иван Иванович', '+(7) 111-1111111', 'ivanov@ivanov.com'),\n",
       " ('Petrov', 'Петров Петр Петрович', '+(7) 222-2222222', 'petrov@petrov.com')]"
      ]
     },
     "execution_count": 12,
     "metadata": {},
     "output_type": "execute_result"
    }
   ],
   "source": [
    "%%sql\n",
    "SELECT *\n",
    "FROM TableB"
   ]
  },
  {
   "cell_type": "code",
   "execution_count": 13,
   "metadata": {},
   "outputs": [
    {
     "name": "stdout",
     "output_type": "stream",
     "text": [
      " * sqlite://\n",
      "Done.\n"
     ]
    },
    {
     "data": {
      "text/html": [
       "<table>\n",
       "    <tr>\n",
       "        <th>name</th>\n",
       "        <th>key</th>\n",
       "        <th>value</th>\n",
       "    </tr>\n",
       "    <tr>\n",
       "        <td>Ivanov</td>\n",
       "        <td>FIO</td>\n",
       "        <td>Иванов Иван Иванович</td>\n",
       "    </tr>\n",
       "    <tr>\n",
       "        <td>Ivanov</td>\n",
       "        <td>Phone</td>\n",
       "        <td>+(7) 111-1111111</td>\n",
       "    </tr>\n",
       "    <tr>\n",
       "        <td>Ivanov</td>\n",
       "        <td>email</td>\n",
       "        <td>ivanov@ivanov.com</td>\n",
       "    </tr>\n",
       "    <tr>\n",
       "        <td>Petrov</td>\n",
       "        <td>FIO</td>\n",
       "        <td>Петров Петр Петрович</td>\n",
       "    </tr>\n",
       "    <tr>\n",
       "        <td>Petrov</td>\n",
       "        <td>Phone</td>\n",
       "        <td>+(7) 222-2222222</td>\n",
       "    </tr>\n",
       "    <tr>\n",
       "        <td>Petrov</td>\n",
       "        <td>email</td>\n",
       "        <td>petrov@petrov.com</td>\n",
       "    </tr>\n",
       "</table>"
      ],
      "text/plain": [
       "[('Ivanov', 'FIO', 'Иванов Иван Иванович'),\n",
       " ('Ivanov', 'Phone', '+(7) 111-1111111'),\n",
       " ('Ivanov', 'email', 'ivanov@ivanov.com'),\n",
       " ('Petrov', 'FIO', 'Петров Петр Петрович'),\n",
       " ('Petrov', 'Phone', '+(7) 222-2222222'),\n",
       " ('Petrov', 'email', 'petrov@petrov.com')]"
      ]
     },
     "execution_count": 13,
     "metadata": {},
     "output_type": "execute_result"
    }
   ],
   "source": [
    "%%sql\n",
    "SELECT name, 'FIO' AS key, FIO AS value\n",
    "FROM TableB\n",
    "UNION\n",
    "SELECT name, 'Phone' AS key, Phone AS value\n",
    "FROM TableB\n",
    "UNION\n",
    "SELECT name, 'email' AS key, email AS value\n",
    "FROM TableB"
   ]
  },
  {
   "cell_type": "markdown",
   "metadata": {},
   "source": [
    "# Задание 2\n",
    "Рассмотрим таблицу StudentMarks\n",
    "\n",
    "| student_name | mark_date | mark_value\n",
    "|---------|--------- | ----\n",
    "| Ivanov  | 2019.01.01 | 3\n",
    "| Ivanov  | 2019.01.05 | 4\n",
    "| Ivanov  | 2019.02.03 | 5\n",
    "| Petrov  | 2019.02.01 | 2\n",
    "| Petrov  | 2019.02.16 | 4\n",
    "| Petrov  | 2019.04.17 | 5\n",
    "\n",
    "В данной таблице студенту проставляется оценка за определенную дату. Необходимо сформировать интервалы, \n",
    "за время которых оценка не менялась,\n",
    "и среднюю оценку, находящуюся в данном интервале.\n",
    "Текущий интервал должен заканчиваться на 5999.12.31\n",
    "\n",
    "\n",
    "По исходным данным результатом таблицы будет следущее:\n",
    "\n",
    "| client_name | mark_validfrom | mark_validto | average_mark_value\n",
    "|---------|--------- | ------ | -----\n",
    "| Ivanov  | 2019.01.01 | 2019.01.04 | 3\n",
    "| Ivanov  | 2019.01.05 | 2019.02.02 | 3.5\n",
    "| Ivanov  | 2019.02.03 | 5999.12.31 | 4\n",
    "| Petrov  | 2019.02.01 | 2019.02.15 | 2\n",
    "| Petrov  | 2019.02.16 | 2019.04.16 | 3\n",
    "| Petrov  | 2019.04.17 | 5999.12.31 | 3.6666\n"
   ]
  },
  {
   "cell_type": "code",
   "execution_count": 14,
   "metadata": {},
   "outputs": [
    {
     "name": "stdout",
     "output_type": "stream",
     "text": [
      " * sqlite://\n",
      "Done.\n"
     ]
    },
    {
     "data": {
      "text/plain": [
       "[]"
      ]
     },
     "execution_count": 14,
     "metadata": {},
     "output_type": "execute_result"
    }
   ],
   "source": [
    "%%sql\n",
    "DROP TABLE IF EXISTS StudentMarks"
   ]
  },
  {
   "cell_type": "code",
   "execution_count": 15,
   "metadata": {},
   "outputs": [
    {
     "name": "stdout",
     "output_type": "stream",
     "text": [
      " * sqlite://\n",
      "Done.\n"
     ]
    },
    {
     "data": {
      "text/plain": [
       "[]"
      ]
     },
     "execution_count": 15,
     "metadata": {},
     "output_type": "execute_result"
    }
   ],
   "source": [
    "%%sql\n",
    "CREATE TABLE StudentMarks\n",
    "(\n",
    "    student_name varchar(50),\n",
    "    mark_date date,\n",
    "    mark_value integer\n",
    ")"
   ]
  },
  {
   "cell_type": "code",
   "execution_count": 16,
   "metadata": {},
   "outputs": [
    {
     "name": "stdout",
     "output_type": "stream",
     "text": [
      " * sqlite://\n",
      "1 rows affected.\n",
      "1 rows affected.\n",
      "1 rows affected.\n",
      "1 rows affected.\n",
      "1 rows affected.\n",
      "1 rows affected.\n"
     ]
    },
    {
     "data": {
      "text/plain": [
       "[]"
      ]
     },
     "execution_count": 16,
     "metadata": {},
     "output_type": "execute_result"
    }
   ],
   "source": [
    "%%sql\n",
    "INSERT INTO StudentMarks (student_name, mark_date, mark_value) VALUES ('Ivanov', date('2019-01-01'), 3);\n",
    "INSERT INTO StudentMarks (student_name, mark_date, mark_value) VALUES ('Ivanov', date('2019-01-05'), 4);\n",
    "INSERT INTO StudentMarks (student_name, mark_date, mark_value) VALUES ('Ivanov', date('2019-02-03'), 5);\n",
    "INSERT INTO StudentMarks (student_name, mark_date, mark_value) VALUES ('Petrov', date('2019-02-01'), 2);\n",
    "INSERT INTO StudentMarks (student_name, mark_date, mark_value) VALUES ('Petrov', date('2019-02-16'), 4);\n",
    "INSERT INTO StudentMarks (student_name, mark_date, mark_value) VALUES ('Petrov', date('2019-04-17'), 5);"
   ]
  },
  {
   "cell_type": "code",
   "execution_count": 17,
   "metadata": {},
   "outputs": [
    {
     "name": "stdout",
     "output_type": "stream",
     "text": [
      " * sqlite://\n",
      "Done.\n"
     ]
    },
    {
     "data": {
      "text/html": [
       "<table>\n",
       "    <tr>\n",
       "        <th>student_name</th>\n",
       "        <th>mark_date</th>\n",
       "        <th>mark_value</th>\n",
       "    </tr>\n",
       "    <tr>\n",
       "        <td>Ivanov</td>\n",
       "        <td>2019-01-01</td>\n",
       "        <td>3</td>\n",
       "    </tr>\n",
       "    <tr>\n",
       "        <td>Ivanov</td>\n",
       "        <td>2019-01-05</td>\n",
       "        <td>4</td>\n",
       "    </tr>\n",
       "    <tr>\n",
       "        <td>Ivanov</td>\n",
       "        <td>2019-02-03</td>\n",
       "        <td>5</td>\n",
       "    </tr>\n",
       "    <tr>\n",
       "        <td>Petrov</td>\n",
       "        <td>2019-02-01</td>\n",
       "        <td>2</td>\n",
       "    </tr>\n",
       "    <tr>\n",
       "        <td>Petrov</td>\n",
       "        <td>2019-02-16</td>\n",
       "        <td>4</td>\n",
       "    </tr>\n",
       "    <tr>\n",
       "        <td>Petrov</td>\n",
       "        <td>2019-04-17</td>\n",
       "        <td>5</td>\n",
       "    </tr>\n",
       "</table>"
      ],
      "text/plain": [
       "[('Ivanov', '2019-01-01', 3),\n",
       " ('Ivanov', '2019-01-05', 4),\n",
       " ('Ivanov', '2019-02-03', 5),\n",
       " ('Petrov', '2019-02-01', 2),\n",
       " ('Petrov', '2019-02-16', 4),\n",
       " ('Petrov', '2019-04-17', 5)]"
      ]
     },
     "execution_count": 17,
     "metadata": {},
     "output_type": "execute_result"
    }
   ],
   "source": [
    "%%sql\n",
    "SELECT *\n",
    "FROM StudentMarks"
   ]
  },
  {
   "cell_type": "code",
   "execution_count": 18,
   "metadata": {},
   "outputs": [
    {
     "name": "stdout",
     "output_type": "stream",
     "text": [
      " * sqlite://\n",
      "Done.\n"
     ]
    },
    {
     "data": {
      "text/html": [
       "<table>\n",
       "    <tr>\n",
       "        <th>student_name</th>\n",
       "        <th>mark_date</th>\n",
       "        <th>mark_validto</th>\n",
       "        <th>avg_mark_value</th>\n",
       "    </tr>\n",
       "    <tr>\n",
       "        <td>Ivanov</td>\n",
       "        <td>2019-01-01</td>\n",
       "        <td>2019-01-04</td>\n",
       "        <td>3.0</td>\n",
       "    </tr>\n",
       "    <tr>\n",
       "        <td>Ivanov</td>\n",
       "        <td>2019-01-05</td>\n",
       "        <td>2019-02-02</td>\n",
       "        <td>3.5</td>\n",
       "    </tr>\n",
       "    <tr>\n",
       "        <td>Ivanov</td>\n",
       "        <td>2019-02-03</td>\n",
       "        <td>5999-12-31</td>\n",
       "        <td>4.0</td>\n",
       "    </tr>\n",
       "    <tr>\n",
       "        <td>Petrov</td>\n",
       "        <td>2019-02-01</td>\n",
       "        <td>2019-02-15</td>\n",
       "        <td>2.0</td>\n",
       "    </tr>\n",
       "    <tr>\n",
       "        <td>Petrov</td>\n",
       "        <td>2019-02-16</td>\n",
       "        <td>2019-04-16</td>\n",
       "        <td>3.0</td>\n",
       "    </tr>\n",
       "    <tr>\n",
       "        <td>Petrov</td>\n",
       "        <td>2019-04-17</td>\n",
       "        <td>5999-12-31</td>\n",
       "        <td>3.6666666666666665</td>\n",
       "    </tr>\n",
       "</table>"
      ],
      "text/plain": [
       "[('Ivanov', '2019-01-01', '2019-01-04', 3.0),\n",
       " ('Ivanov', '2019-01-05', '2019-02-02', 3.5),\n",
       " ('Ivanov', '2019-02-03', '5999-12-31', 4.0),\n",
       " ('Petrov', '2019-02-01', '2019-02-15', 2.0),\n",
       " ('Petrov', '2019-02-16', '2019-04-16', 3.0),\n",
       " ('Petrov', '2019-04-17', '5999-12-31', 3.6666666666666665)]"
      ]
     },
     "execution_count": 18,
     "metadata": {},
     "output_type": "execute_result"
    }
   ],
   "source": [
    "%%sql\n",
    "WITH Table1 AS \n",
    "    (SELECT student_name, mark_date,\n",
    "     LEAD (date(mark_date, '-1 day')) OVER (PARTITION BY student_name ORDER BY student_name, mark_date) AS mark_validto,\n",
    "     AVG(mark_value) OVER (PARTITION BY student_name ORDER BY student_name, mark_date) AS avg_mark_value\n",
    "     FROM StudentMarks)\n",
    "SELECT student_name, mark_date,\n",
    "CASE \n",
    "    WHEN mark_validto IS NULL THEN date('5999-12-31')\n",
    "    ELSE mark_validto\n",
    "END AS mark_validto,\n",
    "avg_mark_value\n",
    "FROM Table1 AS T1\n"
   ]
  },
  {
   "cell_type": "markdown",
   "metadata": {},
   "source": [
    "# Задание 3\n",
    "\n",
    "\n",
    "Рассмотрим таблицу CheatList, описывающий блокнот со шпаргалками. В данной таблице на одном листе может быть только одна шпаргалка по одному предмету. Блокнот состоит из 2N листов, пронумерованных от 0 до 2N-1. 0 лист всегда пустой, 2N-1 лист может быть как пустым, так и заполненным. В самом конце блокнота не может быть 2 подряд пустых листа. Необходимо вернуть таблицу вида (left_list, right_list), описывающий все листы в отсортированном порядке\n",
    "## Пример \n",
    "\n",
    "| ListNumber | Subject \n",
    "| -----------|--------\n",
    "|  1         | Math\n",
    "|  3         | Math\n",
    "|  4         | History\n",
    "\n",
    "## Результат\n",
    "\n",
    "| left_list | righ_list \n",
    "| --------- | ---------\n",
    "|   NULL    |  Math\n",
    "|   NULL    |  Math\n",
    "|   History |  NULL\n"
   ]
  },
  {
   "cell_type": "code",
   "execution_count": 36,
   "metadata": {},
   "outputs": [
    {
     "name": "stdout",
     "output_type": "stream",
     "text": [
      " * sqlite://\n",
      "Done.\n"
     ]
    },
    {
     "data": {
      "text/plain": [
       "[]"
      ]
     },
     "execution_count": 36,
     "metadata": {},
     "output_type": "execute_result"
    }
   ],
   "source": [
    "%%sql\n",
    "DROP TABLE IF EXISTS CheatList"
   ]
  },
  {
   "cell_type": "code",
   "execution_count": 37,
   "metadata": {},
   "outputs": [
    {
     "name": "stdout",
     "output_type": "stream",
     "text": [
      " * sqlite://\n",
      "Done.\n"
     ]
    },
    {
     "data": {
      "text/plain": [
       "[]"
      ]
     },
     "execution_count": 37,
     "metadata": {},
     "output_type": "execute_result"
    }
   ],
   "source": [
    "%%sql\n",
    "CREATE TABLE CheatList\n",
    "(\n",
    "    ListNumber integer(0,0),\n",
    "    Subject varchar(0, 0)\n",
    ")"
   ]
  },
  {
   "cell_type": "code",
   "execution_count": 38,
   "metadata": {},
   "outputs": [
    {
     "name": "stdout",
     "output_type": "stream",
     "text": [
      " * sqlite://\n",
      "1 rows affected.\n",
      "1 rows affected.\n",
      "1 rows affected.\n",
      "1 rows affected.\n",
      "1 rows affected.\n",
      "1 rows affected.\n",
      "1 rows affected.\n",
      "1 rows affected.\n"
     ]
    },
    {
     "data": {
      "text/plain": [
       "[]"
      ]
     },
     "execution_count": 38,
     "metadata": {},
     "output_type": "execute_result"
    }
   ],
   "source": [
    "%%sql\n",
    "INSERT INTO CheatList (ListNumber, Subject) VALUES (1, 'English');\n",
    "INSERT INTO CheatList (ListNumber, Subject) VALUES (3, 'English');\n",
    "INSERT INTO CheatList (ListNumber, Subject) VALUES (4, 'Hystory');\n",
    "INSERT INTO CheatList (ListNumber, Subject) VALUES (5, 'Hystory');\n",
    "INSERT INTO CheatList (ListNumber, Subject) VALUES (6, 'Hystory');\n",
    "INSERT INTO CheatList (ListNumber, Subject) VALUES (7, 'Math');\n",
    "INSERT INTO CheatList (ListNumber, Subject) VALUES (8, 'Math');\n",
    "INSERT INTO CheatList (ListNumber, Subject) VALUES (9, 'Math');"
   ]
  },
  {
   "cell_type": "code",
   "execution_count": 39,
   "metadata": {},
   "outputs": [
    {
     "name": "stdout",
     "output_type": "stream",
     "text": [
      " * sqlite://\n",
      "Done.\n"
     ]
    },
    {
     "data": {
      "text/html": [
       "<table>\n",
       "    <tr>\n",
       "        <th>ListNumber</th>\n",
       "        <th>Subject</th>\n",
       "    </tr>\n",
       "    <tr>\n",
       "        <td>1</td>\n",
       "        <td>English</td>\n",
       "    </tr>\n",
       "    <tr>\n",
       "        <td>3</td>\n",
       "        <td>English</td>\n",
       "    </tr>\n",
       "    <tr>\n",
       "        <td>4</td>\n",
       "        <td>Hystory</td>\n",
       "    </tr>\n",
       "    <tr>\n",
       "        <td>5</td>\n",
       "        <td>Hystory</td>\n",
       "    </tr>\n",
       "    <tr>\n",
       "        <td>6</td>\n",
       "        <td>Hystory</td>\n",
       "    </tr>\n",
       "    <tr>\n",
       "        <td>7</td>\n",
       "        <td>Math</td>\n",
       "    </tr>\n",
       "    <tr>\n",
       "        <td>8</td>\n",
       "        <td>Math</td>\n",
       "    </tr>\n",
       "    <tr>\n",
       "        <td>9</td>\n",
       "        <td>Math</td>\n",
       "    </tr>\n",
       "</table>"
      ],
      "text/plain": [
       "[(1, 'English'),\n",
       " (3, 'English'),\n",
       " (4, 'Hystory'),\n",
       " (5, 'Hystory'),\n",
       " (6, 'Hystory'),\n",
       " (7, 'Math'),\n",
       " (8, 'Math'),\n",
       " (9, 'Math')]"
      ]
     },
     "execution_count": 39,
     "metadata": {},
     "output_type": "execute_result"
    }
   ],
   "source": [
    "%%sql\n",
    "SELECT *\n",
    "FROM CheatList"
   ]
  },
  {
   "cell_type": "code",
   "execution_count": 40,
   "metadata": {},
   "outputs": [
    {
     "name": "stdout",
     "output_type": "stream",
     "text": [
      " * sqlite://\n",
      "Done.\n"
     ]
    },
    {
     "data": {
      "text/html": [
       "<table>\n",
       "    <tr>\n",
       "        <th>left_list</th>\n",
       "        <th>right_list</th>\n",
       "    </tr>\n",
       "    <tr>\n",
       "        <td>None</td>\n",
       "        <td>English</td>\n",
       "    </tr>\n",
       "    <tr>\n",
       "        <td>None</td>\n",
       "        <td>English</td>\n",
       "    </tr>\n",
       "    <tr>\n",
       "        <td>Hystory</td>\n",
       "        <td>None</td>\n",
       "    </tr>\n",
       "    <tr>\n",
       "        <td>None</td>\n",
       "        <td>Hystory</td>\n",
       "    </tr>\n",
       "    <tr>\n",
       "        <td>Hystory</td>\n",
       "        <td>None</td>\n",
       "    </tr>\n",
       "    <tr>\n",
       "        <td>None</td>\n",
       "        <td>Math</td>\n",
       "    </tr>\n",
       "    <tr>\n",
       "        <td>Math</td>\n",
       "        <td>None</td>\n",
       "    </tr>\n",
       "    <tr>\n",
       "        <td>None</td>\n",
       "        <td>Math</td>\n",
       "    </tr>\n",
       "</table>"
      ],
      "text/plain": [
       "[(None, 'English'),\n",
       " (None, 'English'),\n",
       " ('Hystory', None),\n",
       " (None, 'Hystory'),\n",
       " ('Hystory', None),\n",
       " (None, 'Math'),\n",
       " ('Math', None),\n",
       " (None, 'Math')]"
      ]
     },
     "execution_count": 40,
     "metadata": {},
     "output_type": "execute_result"
    }
   ],
   "source": [
    "%%sql\n",
    "SELECT \n",
    "    MAX(CASE WHEN ListNumber%2 THEN NULL ELSE Subject END) AS left_list,\n",
    "    MAX(CASE WHEN ListNumber%2 THEN Subject ELSE NULL END) AS right_list\n",
    "FROM CheatList\n",
    "GROUP BY ListNumber"
   ]
  },
  {
   "cell_type": "markdown",
   "metadata": {},
   "source": [
    "# Задание 4\n",
    "Используя формат xml, описанный в [dbmstools](http://dbmstools.sourceforge.net/docs/xmlschema.html), напишите функцию на языке Python, на входе которой будет путь к xml, на выходе - скрипт с DDL скриптами таблиц (можно ограничиться table блоком)"
   ]
  },
  {
   "cell_type": "code",
   "execution_count": 41,
   "metadata": {},
   "outputs": [],
   "source": [
    "from xml.dom import minidom\n",
    "\n",
    "#создаём объект\n",
    "doc = minidom.Document()\n",
    "\n",
    "#корневой тег root\n",
    "root = doc.createElement('root')\n",
    "doc.appendChild(root)\n",
    "\n",
    "name = doc.createElement('name')\n",
    "text = doc.createTextNode('Students')\n",
    "name.appendChild(text)\n",
    "root.appendChild(name)\n",
    "\n",
    "#первый блок student\n",
    "student = doc.createElement('student')\n",
    "student.setAttribute('color', 'white')\n",
    "\n",
    "faculty = doc.createElement('faculty')\n",
    "text = doc.createTextNode('Cybernetics')\n",
    "faculty.appendChild(text)\n",
    "faculty.setAttribute('color', 'green')\n",
    "student.appendChild(faculty)\n",
    "\n",
    "course = doc.createElement('course')\n",
    "text = doc.createTextNode('2')\n",
    "course.appendChild(text)\n",
    "course.setAttribute('color', 'white')\n",
    "student.appendChild(course)\n",
    "\n",
    "average_mark = doc.createElement('average_mark')\n",
    "text = doc.createTextNode('5')\n",
    "average_mark.appendChild(text)\n",
    "average_mark.setAttribute('red', 'green')\n",
    "student.appendChild(average_mark)\n",
    "\n",
    "root.appendChild(student)\n",
    "\n",
    "\n",
    "#второй блок student\n",
    "student = doc.createElement('student')\n",
    "student.setAttribute('color', 'white')\n",
    "\n",
    "faculty = doc.createElement('faculty')\n",
    "text = doc.createTextNode('IT')\n",
    "faculty.appendChild(text)\n",
    "faculty.setAttribute('color', 'green')\n",
    "student.appendChild(faculty)\n",
    "\n",
    "course = doc.createElement('course')\n",
    "text = doc.createTextNode('3')\n",
    "course.appendChild(text)\n",
    "course.setAttribute('color', 'white')\n",
    "student.appendChild(course)\n",
    "\n",
    "average_mark = doc.createElement('average_mark')\n",
    "text = doc.createTextNode('3')\n",
    "average_mark.appendChild(text)\n",
    "average_mark.setAttribute('red', 'green')\n",
    "student.appendChild(average_mark)\n",
    "\n",
    "root.appendChild(student)\n",
    "\n",
    "#запись в файл\n",
    "xml_str = doc.toprettyxml(indent=\"  \")\n",
    "with open(\"student.xml\", \"w\") as f:\n",
    "    f.write(xml_str)"
   ]
  },
  {
   "cell_type": "code",
   "execution_count": 42,
   "metadata": {},
   "outputs": [
    {
     "name": "stdout",
     "output_type": "stream",
     "text": [
      "Students\n",
      "Факультет: Cybernetics, курс: 2, средний балл: 5\n",
      "Факультет: IT, курс: 3, средний балл: 3\n"
     ]
    }
   ],
   "source": [
    "from xml.dom import minidom\n",
    "\n",
    "doc = minidom.parse(\"student.xml\")\n",
    "name = doc.getElementsByTagName(\"name\")[0]\n",
    "print(name.firstChild.data)\n",
    "\n",
    "student = doc.getElementsByTagName(\"student\")\n",
    "for st in student:\n",
    "    faculty = st.getElementsByTagName(\"faculty\")[0]\n",
    "    course = st.getElementsByTagName(\"course\")[0]\n",
    "    average_mark = st.getElementsByTagName(\"average_mark\")[0]\n",
    "    print(\"Факультет: %s, курс: %s, средний балл: %s\" % (faculty.firstChild.data,\\\n",
    "    course.firstChild.data, average_mark.firstChild.data))"
   ]
  },
  {
   "cell_type": "markdown",
   "metadata": {},
   "source": [
    "# Задание 5\n",
    "Необходимо уметь хранить матрицы MxM внутри СУБД. Предложите способ хранения, и приведите пример перемножения двух матриц средствами SQL"
   ]
  },
  {
   "cell_type": "code",
   "execution_count": 77,
   "metadata": {},
   "outputs": [
    {
     "name": "stdout",
     "output_type": "stream",
     "text": [
      " * sqlite://\n",
      "Done.\n"
     ]
    },
    {
     "data": {
      "text/plain": [
       "[]"
      ]
     },
     "execution_count": 77,
     "metadata": {},
     "output_type": "execute_result"
    }
   ],
   "source": [
    "%%sql\n",
    "DROP TABLE IF EXISTS Matrix;"
   ]
  },
  {
   "cell_type": "code",
   "execution_count": 78,
   "metadata": {},
   "outputs": [
    {
     "name": "stdout",
     "output_type": "stream",
     "text": [
      " * sqlite://\n",
      "Done.\n"
     ]
    },
    {
     "data": {
      "text/plain": [
       "[]"
      ]
     },
     "execution_count": 78,
     "metadata": {},
     "output_type": "execute_result"
    }
   ],
   "source": [
    "%%sql\n",
    "CREATE TABLE Matrix\n",
    "(\n",
    "    Row INT NOT NULL,\n",
    "    Column INT NOT NULL,\n",
    "    Value1 INT NOT NULL,\n",
    "    Value2 INT NOT NULL\n",
    ");"
   ]
  },
  {
   "cell_type": "code",
   "execution_count": 79,
   "metadata": {},
   "outputs": [
    {
     "name": "stdout",
     "output_type": "stream",
     "text": [
      " * sqlite://\n",
      "1 rows affected.\n",
      "1 rows affected.\n",
      "1 rows affected.\n",
      "1 rows affected.\n",
      "1 rows affected.\n",
      "1 rows affected.\n",
      "1 rows affected.\n",
      "1 rows affected.\n",
      "1 rows affected.\n",
      "1 rows affected.\n",
      "1 rows affected.\n",
      "1 rows affected.\n",
      "1 rows affected.\n",
      "1 rows affected.\n",
      "1 rows affected.\n",
      "1 rows affected.\n"
     ]
    },
    {
     "data": {
      "text/plain": [
       "[]"
      ]
     },
     "execution_count": 79,
     "metadata": {},
     "output_type": "execute_result"
    }
   ],
   "source": [
    "%%sql \n",
    "INSERT INTO Matrix (Row, Column, Value1, Value2) VALUES (1, 1, 0, 1);\n",
    "INSERT INTO Matrix (Row, Column, Value1, Value2) VALUES (1, 2, 1, 3);\n",
    "INSERT INTO Matrix (Row, Column, Value1, Value2) VALUES (1, 3, 1, 8);\n",
    "INSERT INTO Matrix (Row, Column, Value1, Value2) VALUES (1, 4, 4, 4);\n",
    "INSERT INTO Matrix (Row, Column, Value1, Value2) VALUES (2, 1, 2, 4);\n",
    "INSERT INTO Matrix (Row, Column, Value1, Value2) VALUES (2, 2, 0, 1);\n",
    "INSERT INTO Matrix (Row, Column, Value1, Value2) VALUES (2, 3, 1, 1);\n",
    "INSERT INTO Matrix (Row, Column, Value1, Value2) VALUES (2, 4, 2, 5);\n",
    "INSERT INTO Matrix (Row, Column, Value1, Value2) VALUES (3, 1, 1, 2);\n",
    "INSERT INTO Matrix (Row, Column, Value1, Value2) VALUES (3, 2, 0, 8);\n",
    "INSERT INTO Matrix (Row, Column, Value1, Value2) VALUES (3, 3, 0, 6);\n",
    "INSERT INTO Matrix (Row, Column, Value1, Value2) VALUES (3, 4, 2, 2);\n",
    "INSERT INTO Matrix (Row, Column, Value1, Value2) VALUES (4, 1, 2, 2);\n",
    "INSERT INTO Matrix (Row, Column, Value1, Value2) VALUES (4, 2, 3, 3);\n",
    "INSERT INTO Matrix (Row, Column, Value1, Value2) VALUES (4, 3, 1, 1);\n",
    "INSERT INTO Matrix (Row, Column, Value1, Value2) VALUES (4, 4, 4, 1)\n",
    "\n",
    "-- 0 1 1 4   1 3 8 4\n",
    "-- 2 0 1 2   4 1 1 5\n",
    "-- 1 0 0 2   2 8 6 2\n",
    "-- 2 3 1 4   2 3 1 1"
   ]
  },
  {
   "cell_type": "code",
   "execution_count": 86,
   "metadata": {},
   "outputs": [
    {
     "name": "stdout",
     "output_type": "stream",
     "text": [
      " * sqlite://\n",
      "Done.\n"
     ]
    },
    {
     "data": {
      "text/html": [
       "<table>\n",
       "    <tr>\n",
       "        <th>Row</th>\n",
       "        <th>Column</th>\n",
       "        <th>M3</th>\n",
       "    </tr>\n",
       "    <tr>\n",
       "        <td>1</td>\n",
       "        <td>1</td>\n",
       "        <td>14</td>\n",
       "    </tr>\n",
       "    <tr>\n",
       "        <td>1</td>\n",
       "        <td>2</td>\n",
       "        <td>21</td>\n",
       "    </tr>\n",
       "    <tr>\n",
       "        <td>1</td>\n",
       "        <td>3</td>\n",
       "        <td>11</td>\n",
       "    </tr>\n",
       "    <tr>\n",
       "        <td>1</td>\n",
       "        <td>4</td>\n",
       "        <td>11</td>\n",
       "    </tr>\n",
       "    <tr>\n",
       "        <td>2</td>\n",
       "        <td>1</td>\n",
       "        <td>8</td>\n",
       "    </tr>\n",
       "    <tr>\n",
       "        <td>2</td>\n",
       "        <td>2</td>\n",
       "        <td>20</td>\n",
       "    </tr>\n",
       "    <tr>\n",
       "        <td>2</td>\n",
       "        <td>3</td>\n",
       "        <td>24</td>\n",
       "    </tr>\n",
       "    <tr>\n",
       "        <td>2</td>\n",
       "        <td>4</td>\n",
       "        <td>12</td>\n",
       "    </tr>\n",
       "    <tr>\n",
       "        <td>3</td>\n",
       "        <td>1</td>\n",
       "        <td>5</td>\n",
       "    </tr>\n",
       "    <tr>\n",
       "        <td>3</td>\n",
       "        <td>2</td>\n",
       "        <td>9</td>\n",
       "    </tr>\n",
       "    <tr>\n",
       "        <td>3</td>\n",
       "        <td>3</td>\n",
       "        <td>10</td>\n",
       "    </tr>\n",
       "    <tr>\n",
       "        <td>3</td>\n",
       "        <td>4</td>\n",
       "        <td>6</td>\n",
       "    </tr>\n",
       "    <tr>\n",
       "        <td>4</td>\n",
       "        <td>1</td>\n",
       "        <td>24</td>\n",
       "    </tr>\n",
       "    <tr>\n",
       "        <td>4</td>\n",
       "        <td>2</td>\n",
       "        <td>29</td>\n",
       "    </tr>\n",
       "    <tr>\n",
       "        <td>4</td>\n",
       "        <td>3</td>\n",
       "        <td>29</td>\n",
       "    </tr>\n",
       "    <tr>\n",
       "        <td>4</td>\n",
       "        <td>4</td>\n",
       "        <td>29</td>\n",
       "    </tr>\n",
       "</table>"
      ],
      "text/plain": [
       "[(1, 1, 14),\n",
       " (1, 2, 21),\n",
       " (1, 3, 11),\n",
       " (1, 4, 11),\n",
       " (2, 1, 8),\n",
       " (2, 2, 20),\n",
       " (2, 3, 24),\n",
       " (2, 4, 12),\n",
       " (3, 1, 5),\n",
       " (3, 2, 9),\n",
       " (3, 3, 10),\n",
       " (3, 4, 6),\n",
       " (4, 1, 24),\n",
       " (4, 2, 29),\n",
       " (4, 3, 29),\n",
       " (4, 4, 29)]"
      ]
     },
     "execution_count": 86,
     "metadata": {},
     "output_type": "execute_result"
    }
   ],
   "source": [
    "%%sql\n",
    "SELECT M1.Row, M2.Column, SUM(M1.Value1*M2.Value2) AS M3\n",
    "FROM Matrix M1 \n",
    "JOIN Matrix M2 ON M1.Column = M2.Row\n",
    "GROUP BY M1.Row, M2.Column\n",
    "ORDER BY M1.Row, M2.Column;"
   ]
  },
  {
   "cell_type": "code",
   "execution_count": null,
   "metadata": {},
   "outputs": [],
   "source": []
  }
 ],
 "metadata": {
  "kernelspec": {
   "display_name": "Python 3",
   "language": "python",
   "name": "python3"
  },
  "language_info": {
   "codemirror_mode": {
    "name": "ipython",
    "version": 3
   },
   "file_extension": ".py",
   "mimetype": "text/x-python",
   "name": "python",
   "nbconvert_exporter": "python",
   "pygments_lexer": "ipython3",
   "version": "3.7.3"
  }
 },
 "nbformat": 4,
 "nbformat_minor": 2
}
