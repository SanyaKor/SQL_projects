{
 "cells": [
  {
   "cell_type": "markdown",
   "metadata": {
    "collapsed": true
   },
   "source": [
    "# Домашнее задание 2 \n",
    "\n",
    "Необходимо реализовать схему, указанную в hw_diagram.pdf \n"
   ]
  },
  {
   "cell_type": "markdown",
   "metadata": {},
   "source": [
    "## Описание таблиц \n",
    "PeopleStatus - Описание возможных статусов людей, которые есть в университете (Студент, Преподаватель).\n",
    "Faculties - Описание факультетов, которые есть в университете (KIB, IT, и т.д.).\n",
    "People - Информация о людях в университете (Имя, почта, ссылка на факультет, ссылка на статус).\n",
    "Classes - Описание возможных классов в университете (название (Математический анализ) и ссылка на факультет).\n",
    "Semesters - Справочник семестров факультета(например, Осень2016, '2016-01-01', '2016-12-31').\n",
    "ClassesSchedule - Расписание классов (ссылки на семестр, преподавателя и курс, день недели, время начала).\n",
    "StudentsSchedule - Таблица, описывающая, какой студент ходит на какой курс."
   ]
  },
  {
   "cell_type": "code",
   "execution_count": 94,
   "metadata": {},
   "outputs": [],
   "source": [
    "# Не забудьте настроить соединение!"
   ]
  },
  {
   "cell_type": "markdown",
   "metadata": {},
   "source": [
    "## Создание таблиц\n",
    "Напишет ниже скрипты по созданию таблиц с учетом всех внешних ключей."
   ]
  },
  {
   "cell_type": "code",
   "execution_count": 8,
   "metadata": {},
   "outputs": [
    {
     "name": "stdout",
     "output_type": "stream",
     "text": [
      "The sql extension is already loaded. To reload it, use:\n",
      "  %reload_ext sql\n"
     ]
    },
    {
     "data": {
      "text/plain": [
       "'Connected: @None'"
      ]
     },
     "execution_count": 8,
     "metadata": {},
     "output_type": "execute_result"
    }
   ],
   "source": [
    "%load_ext sql\n",
    "%sql sqlite://\n"
   ]
  },
  {
   "cell_type": "code",
   "execution_count": 9,
   "metadata": {},
   "outputs": [
    {
     "name": "stdout",
     "output_type": "stream",
     "text": [
      " * sqlite://\n",
      "Done.\n"
     ]
    },
    {
     "data": {
      "text/plain": [
       "[]"
      ]
     },
     "execution_count": 9,
     "metadata": {},
     "output_type": "execute_result"
    }
   ],
   "source": [
    "%%sql\n",
    "PRAGMA foreign_keys = ON;"
   ]
  },
  {
   "cell_type": "code",
   "execution_count": 15,
   "metadata": {},
   "outputs": [
    {
     "name": "stdout",
     "output_type": "stream",
     "text": [
      " * sqlite://\n",
      "Done.\n",
      "Done.\n",
      "Done.\n",
      "Done.\n",
      "Done.\n",
      "Done.\n",
      "Done.\n",
      "Done.\n",
      "Done.\n",
      "Done.\n",
      "Done.\n",
      "Done.\n",
      "Done.\n",
      "Done.\n",
      "Done.\n",
      "Done.\n",
      "Done.\n",
      "Done.\n",
      "Done.\n",
      "Done.\n",
      "Done.\n"
     ]
    },
    {
     "data": {
      "text/plain": [
       "[]"
      ]
     },
     "execution_count": 15,
     "metadata": {},
     "output_type": "execute_result"
    }
   ],
   "source": [
    "%%sql\n",
    "drop table if exists Students_Schedule;\n",
    "drop table if exists Classes_shedule;\n",
    "drop table if exists Semesters;\n",
    "drop table if exists Classes;\n",
    "drop table if exists People;\n",
    "drop table if exists Faculties;\n",
    "drop table if exists Peoplestatus;\n",
    "-------------------------------------People_status\n",
    "drop table if exists Peoplestatus;\n",
    "create table Peoplestatus\n",
    "(\n",
    "    id integer primary key, \n",
    "    status_name varchar(50)\n",
    ");\n",
    "-------------------------------------Faculties\n",
    "drop table if exists Faculties;\n",
    "CREATE TABLE Faculties \n",
    "(\n",
    "    id integer primary key, \n",
    "    Faculty_name varchar(50)\n",
    ");\n",
    "-------------------------------------People\n",
    "drop table if exists People;\n",
    "CREATE TABLE People \n",
    "(\n",
    "    id integer primary key, \n",
    "    Name varchar(50),\n",
    "    Email varchar(100),\n",
    "    fac_id integer,\n",
    "    status_id integer,\n",
    "    foreign key(status_id) references PeopleStatus(id),\n",
    "    foreign key(fac_id) references  Faculties(id)\n",
    ");\n",
    "-------------------------------------Classes\n",
    "drop table if exists Classes;\n",
    "CREATE TABLE Classes \n",
    "(\n",
    "    id integer primary key, \n",
    "    description varchar(50),\n",
    "    fac_id integer,\n",
    "    foreign key(fac_id) references  Faculties(id)\n",
    ");\n",
    "\n",
    "-------------------------------------Semesters\n",
    "drop table if exists Semesters;\n",
    "CREATE TABLE Semesters \n",
    "(\n",
    "    id integer primary key, \n",
    "    shortname varchar(50),\n",
    "    date_start integer,\n",
    "    date_end integer\n",
    ");\n",
    "-------------------------------------Classes_shedule\n",
    "drop table if exists Classes_shedule;\n",
    "CREATE TABLE Classes_shedule \n",
    "(\n",
    "    id integer primary key, \n",
    "    class_id ingeter,\n",
    "    teacher_id ingeter,\n",
    "    semester_id ingeter,\n",
    "    week_day integer,\n",
    "    time_start varchar(50),\n",
    "    foreign key(class_id) references Classes(id),\n",
    "    foreign key(teacher_id) references People(id),\n",
    "    foreign key(semester_id) references Semesters(id)\n",
    ");\n",
    "------------------------------------Students_Schedule\n",
    "drop table if exists Students_Schedule;\n",
    "CREATE TABLE Students_Schedule\n",
    "(\n",
    "    student_id integer,\n",
    "    classes_schedule_id integer,\n",
    "    primary key (student_id,classes_schedule_id)\n",
    "    foreign key (classes_schedule_id) references Classes_Shedule(id)\n",
    "    foreign key (student_id) references People(id)\n",
    ");"
   ]
  },
  {
   "cell_type": "code",
   "execution_count": null,
   "metadata": {},
   "outputs": [],
   "source": []
  },
  {
   "cell_type": "code",
   "execution_count": 14,
   "metadata": {},
   "outputs": [
    {
     "name": "stdout",
     "output_type": "stream",
     "text": [
      " * sqlite://\n",
      "1 rows affected.\n",
      "1 rows affected.\n",
      "1 rows affected.\n",
      "1 rows affected.\n",
      "Done.\n",
      "1 rows affected.\n",
      "1 rows affected.\n",
      "1 rows affected.\n",
      "Done.\n",
      "1 rows affected.\n",
      "1 rows affected.\n",
      "Done.\n",
      "1 rows affected.\n",
      "1 rows affected.\n",
      "1 rows affected.\n",
      "1 rows affected.\n",
      "1 rows affected.\n",
      "1 rows affected.\n",
      "1 rows affected.\n",
      "Done.\n",
      "1 rows affected.\n",
      "1 rows affected.\n",
      "1 rows affected.\n",
      "1 rows affected.\n",
      "1 rows affected.\n",
      "1 rows affected.\n",
      "1 rows affected.\n",
      "1 rows affected.\n",
      "1 rows affected.\n",
      "1 rows affected.\n",
      "1 rows affected.\n",
      "Done.\n",
      "1 rows affected.\n",
      "1 rows affected.\n",
      "1 rows affected.\n",
      "1 rows affected.\n",
      "1 rows affected.\n",
      "1 rows affected.\n",
      "Done.\n",
      "1 rows affected.\n",
      "1 rows affected.\n",
      "1 rows affected.\n",
      "1 rows affected.\n",
      "1 rows affected.\n",
      "1 rows affected.\n",
      "1 rows affected.\n",
      "1 rows affected.\n",
      "1 rows affected.\n",
      "1 rows affected.\n",
      "1 rows affected.\n",
      "1 rows affected.\n",
      "1 rows affected.\n",
      "1 rows affected.\n"
     ]
    },
    {
     "data": {
      "text/plain": [
       "[]"
      ]
     },
     "execution_count": 14,
     "metadata": {},
     "output_type": "execute_result"
    }
   ],
   "source": [
    "%%sql\n",
    "insert Into Peoplestatus(id, status_name) VALUES (1, 'student');\n",
    "insert Into Peoplestatus(id, status_name) VALUES (2, 'teacher');\n",
    "insert Into Peoplestatus(id, status_name) VALUES (3, 'postgraduate');\n",
    "insert Into Peoplestatus(id, status_name) VALUES (4, 'undergraduates');\n",
    "---------------------------------------------------------------\n",
    "insert Into Faculties(id, Faculty_name) VALUES (1, 'KIB');\n",
    "insert Into Faculties(id, Faculty_name) VALUES (2, 'IT');\n",
    "insert Into Faculties(id, Faculty_name) VALUES (3, 'Economics');\n",
    "insert Into Faculties(id, Faculty_name) VALUES (4, 'TXT');\n",
    "---------------------------------------------------------------\n",
    "insert Into Semesters(id, shortname, date_start,date_end) VALUES (1, 'first', (01.09),(09.02));\n",
    "insert Into Semesters(id, shortname, date_start,date_end) VALUES (2, 'second', (10.02),(31.09));\n",
    "insert Into Semesters(id, shortname, date_start,date_end) VALUES (3, 'third',(1.09),(09.02));\n",
    "---------------------------------------------------------------\n",
    "insert Into Classes(id, description, fac_id) VALUES (1, 'Матан', 1);\n",
    "insert Into Classes(id, description, fac_id) VALUES (2, 'Линал', 1);\n",
    "insert Into Classes(id, description, fac_id) VALUES (3, 'Прога', 1);\n",
    "insert Into Classes(id, description, fac_id) VALUES (4, 'БД', 1);\n",
    "insert Into Classes(id, description, fac_id) VALUES (5, 'Дифуры', 1);\n",
    "insert Into Classes(id, description, fac_id) VALUES (6, 'Дифгем', 1);\n",
    "insert Into Classes(id, description, fac_id) VALUES (7, 'Методы Матана', 1);\n",
    "insert Into Classes(id, description, fac_id) VALUES (8, 'Дискра', 1);\n",
    "---------------------------------------------------------------\n",
    "insert Into People(id, name, email, fac_id, status_id) values (1, 'Danya','danya@mail.ru', 1, 1);\n",
    "insert Into People(id, name, email, fac_id, status_id) values (2, 'Tanya','tanya@mail.ru', 2, 3);\n",
    "insert Into People(id, name, email, fac_id, status_id) values (3, 'Sanya','tanya@mail.ru', 3, 4);\n",
    "insert Into People(id, name, email, fac_id, status_id) values (4, 'Stroganov Andrey Valentinovich','SAV@mail.ru', 1, 2);\n",
    "insert Into People(id, name, email, fac_id, status_id) values (5, 'Kchalaev Timur Sultanovich','KTS@mail.ru', 1, 2);\n",
    "insert Into People(id, name, email, fac_id, status_id) values (6, 'Shatina Albina Victorovna','SAV@mail.ru', 1, 2);\n",
    "insert Into People(id, name, email, fac_id, status_id) values (7, 'Bakanchev Nikita I','BNI@mail.ru', 1, 2);\n",
    "insert Into People(id, name, email, fac_id, status_id) values (8, 'Adamovich Olga Maratovna','AOM@mail.ru', 1, 2);\n",
    "insert Into People(id, name, email, fac_id, status_id) values (9, 'Shelepin Alexey Leonidovich','ALSH@mail.ru', 1, 2);\n",
    "insert Into People(id, name, email, fac_id, status_id) values (10, 'Parfenov Denis Vasilievich','PDV@mail.ru', 1, 2);\n",
    "insert Into People(id, name, email, fac_id, status_id) values (11, 'Anya','Anya@mail.ru', 1, 1);\n",
    "insert Into People(id, name, email, fac_id, status_id) values (12, 'Vanya','Vanya@mail.ru', 1, 1);\n",
    "---------------------------------------------------------------\n",
    "insert Into Classes_Shedule(id,class_id,teacher_id,semester_id,week_day,time_start) VALUES (1, 1, 9, 1, 1, '9:00');\n",
    "insert Into Classes_Shedule(id,class_id,teacher_id,semester_id,week_day,time_start) VALUES (2, 4, 7, 1, 1, '10:30');\n",
    "insert Into Classes_Shedule(id,class_id,teacher_id,semester_id,week_day,time_start) VALUES (3, 6, 1, 1, 1, '13:10');\n",
    "insert Into Classes_Shedule(id,class_id,teacher_id,semester_id,week_day,time_start) VALUES (4, 8, 4, 1, 1, '14:50');\n",
    "insert Into Classes_Shedule(id,class_id,teacher_id,semester_id,week_day,time_start) VALUES (5, 5, 5, 1, 1, '16:30');\n",
    "insert Into Classes_Shedule(id,class_id,teacher_id,semester_id,week_day,time_start) VALUES (6, 7, 6, 1, 1, '18:00');\n",
    "insert Into Classes_Shedule(id,class_id,teacher_id,semester_id,week_day,time_start) VALUES (7, 3, 10, 1, 2, '13:10');\n",
    "---------------------------------------------------------------\n",
    "insert Into Students_Schedule(student_id,classes_schedule_id) VALUES (1,1);\n",
    "insert Into Students_Schedule(student_id,classes_schedule_id) VALUES (1,2);\n",
    "insert Into Students_Schedule(student_id,classes_schedule_id) VALUES (1,3);\n",
    "insert Into Students_Schedule(student_id,classes_schedule_id) VALUES (1,4);\n",
    "insert Into Students_Schedule(student_id,classes_schedule_id) VALUES (1,5);\n",
    "insert Into Students_Schedule(student_id,classes_schedule_id) VALUES (1,6);\n",
    "insert Into Students_Schedule(student_id,classes_schedule_id) VALUES (1,7);\n",
    "insert Into Students_Schedule(student_id,classes_schedule_id) VALUES (11,1);\n",
    "insert Into Students_Schedule(student_id,classes_schedule_id) VALUES (11,3);\n",
    "insert Into Students_Schedule(student_id,classes_schedule_id) VALUES (11,5);\n",
    "insert Into Students_Schedule(student_id,classes_schedule_id) VALUES (11,4);\n",
    "insert Into Students_Schedule(student_id,classes_schedule_id) VALUES (12,2);\n",
    "insert Into Students_Schedule(student_id,classes_schedule_id) VALUES (12,7);\n",
    "insert Into Students_Schedule(student_id,classes_schedule_id) VALUES (12,3);\n",
    "insert Into Students_Schedule(student_id,classes_schedule_id) VALUES (12,6);"
   ]
  },
  {
   "cell_type": "code",
   "execution_count": null,
   "metadata": {},
   "outputs": [],
   "source": []
  },
  {
   "cell_type": "code",
   "execution_count": null,
   "metadata": {},
   "outputs": [],
   "source": []
  }
 ],
 "metadata": {
  "kernelspec": {
   "display_name": "Python 3",
   "language": "python",
   "name": "python3"
  },
  "language_info": {
   "codemirror_mode": {
    "name": "ipython",
    "version": 3
   },
   "file_extension": ".py",
   "mimetype": "text/x-python",
   "name": "python",
   "nbconvert_exporter": "python",
   "pygments_lexer": "ipython3",
   "version": "3.7.3"
  }
 },
 "nbformat": 4,
 "nbformat_minor": 2
}
