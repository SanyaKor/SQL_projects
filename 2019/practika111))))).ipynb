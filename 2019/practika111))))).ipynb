{
 "cells": [
  {
   "cell_type": "code",
   "execution_count": 2,
   "metadata": {},
   "outputs": [
    {
     "data": {
      "text/plain": [
       "'Connected: @tst_1.db'"
      ]
     },
     "execution_count": 2,
     "metadata": {},
     "output_type": "execute_result"
    }
   ],
   "source": [
    "%load_ext sql\n",
    "%sql sqlite:///tst_1.db"
   ]
  },
  {
   "cell_type": "code",
   "execution_count": 3,
   "metadata": {},
   "outputs": [
    {
     "name": "stdout",
     "output_type": "stream",
     "text": [
      " * sqlite:///tst_1.db\n",
      "Done.\n",
      "Done.\n"
     ]
    },
    {
     "data": {
      "text/plain": [
       "[]"
      ]
     },
     "execution_count": 3,
     "metadata": {},
     "output_type": "execute_result"
    }
   ],
   "source": [
    "%%sql \n",
    "drop table if exists Faculties;\n",
    "\n",
    "CREATE TABLE Faculties \n",
    "(\n",
    "    id integer primary key, \n",
    "    FName varchar(50)\n",
    ");"
   ]
  },
  {
   "cell_type": "code",
   "execution_count": 4,
   "metadata": {},
   "outputs": [
    {
     "name": "stdout",
     "output_type": "stream",
     "text": [
      " * sqlite:///tst_1.db\n",
      "Done.\n"
     ]
    },
    {
     "data": {
      "text/html": [
       "<table>\n",
       "    <tr>\n",
       "        <th>id</th>\n",
       "        <th>FName</th>\n",
       "    </tr>\n",
       "</table>"
      ],
      "text/plain": [
       "[]"
      ]
     },
     "execution_count": 4,
     "metadata": {},
     "output_type": "execute_result"
    }
   ],
   "source": [
    "%sql select * from Faculties"
   ]
  },
  {
   "cell_type": "code",
   "execution_count": 5,
   "metadata": {},
   "outputs": [
    {
     "name": "stdout",
     "output_type": "stream",
     "text": [
      " * sqlite:///tst_1.db\n",
      "1 rows affected.\n",
      "1 rows affected.\n",
      "1 rows affected.\n"
     ]
    },
    {
     "data": {
      "text/plain": [
       "[]"
      ]
     },
     "execution_count": 5,
     "metadata": {},
     "output_type": "execute_result"
    }
   ],
   "source": [
    "%%sql\n",
    "insert Into Faculties(id, fname) values (1, 'KIB');\n",
    "insert Into Faculties(id, fname) values (2, 'IT');\n",
    "insert Into Faculties(id, fname) values (3, 'Economics');\n",
    "\n"
   ]
  },
  {
   "cell_type": "code",
   "execution_count": 6,
   "metadata": {},
   "outputs": [
    {
     "name": "stdout",
     "output_type": "stream",
     "text": [
      " * sqlite:///tst_1.db\n",
      "Done.\n"
     ]
    },
    {
     "data": {
      "text/plain": [
       "[]"
      ]
     },
     "execution_count": 6,
     "metadata": {},
     "output_type": "execute_result"
    }
   ],
   "source": [
    "%%sql\n",
    "PRAGMA foreign_keys = ON;"
   ]
  },
  {
   "cell_type": "code",
   "execution_count": 7,
   "metadata": {},
   "outputs": [
    {
     "name": "stdout",
     "output_type": "stream",
     "text": [
      " * sqlite:///tst_1.db\n",
      "Done.\n",
      "Done.\n"
     ]
    },
    {
     "data": {
      "text/plain": [
       "[]"
      ]
     },
     "execution_count": 7,
     "metadata": {},
     "output_type": "execute_result"
    }
   ],
   "source": [
    "%%sql \n",
    "drop table if exists Students;\n",
    "\n",
    "CREATE TABLE Students \n",
    "(\n",
    "    student_id integer primary key, \n",
    "    Name varchar(50),\n",
    "    SecondName varchar(50), \n",
    "    Faculty_id integer ,\n",
    "    StudyGroup varchar(20),\n",
    "    GPA number,\n",
    "    foreign key(faculty_id) references  Faculties(id)\n",
    ");"
   ]
  },
  {
   "cell_type": "code",
   "execution_count": 8,
   "metadata": {},
   "outputs": [
    {
     "name": "stdout",
     "output_type": "stream",
     "text": [
      " * sqlite:///tst_1.db\n",
      "1 rows affected.\n",
      "1 rows affected.\n",
      "1 rows affected.\n",
      "1 rows affected.\n",
      "1 rows affected.\n"
     ]
    },
    {
     "data": {
      "text/plain": [
       "[]"
      ]
     },
     "execution_count": 8,
     "metadata": {},
     "output_type": "execute_result"
    }
   ],
   "source": [
    "%%sql\n",
    "insert into Students(student_id, Name, SecondName, Faculty_id, StudyGroup, GPA) VALUES (1, 'Anton', 'Sidorov', 1, '101', 3.5);\n",
    "insert into Students(student_id, Name, SecondName, Faculty_id, StudyGroup, GPA) VALUES (2, 'Alexey', 'Petrov', 2, '201', 3.3);\n",
    "insert into Students(student_id, Name, SecondName, Faculty_id, StudyGroup, GPA) VALUES (3, 'Ivan', 'Meshkov', 1, '101', 4.5);\n",
    "insert into Students(student_id, Name, SecondName, Faculty_id, StudyGroup, GPA) VALUES (4, 'Elena', 'Kvitova', 2, '301', 4.8);\n",
    "insert into Students(student_id, Name, SecondName, Faculty_id, StudyGroup, GPA) VALUES (5, 'Darya', 'Salnikova', 2, '202', 3.4);"
   ]
  },
  {
   "cell_type": "code",
   "execution_count": 9,
   "metadata": {},
   "outputs": [
    {
     "name": "stdout",
     "output_type": "stream",
     "text": [
      " * sqlite:///tst_1.db\n",
      "Done.\n"
     ]
    },
    {
     "data": {
      "text/html": [
       "<table>\n",
       "    <tr>\n",
       "        <th>student_id</th>\n",
       "        <th>Name</th>\n",
       "        <th>SecondName</th>\n",
       "        <th>Faculty_id</th>\n",
       "        <th>StudyGroup</th>\n",
       "        <th>GPA</th>\n",
       "    </tr>\n",
       "    <tr>\n",
       "        <td>1</td>\n",
       "        <td>Anton</td>\n",
       "        <td>Sidorov</td>\n",
       "        <td>1</td>\n",
       "        <td>101</td>\n",
       "        <td>3.5</td>\n",
       "    </tr>\n",
       "    <tr>\n",
       "        <td>2</td>\n",
       "        <td>Alexey</td>\n",
       "        <td>Petrov</td>\n",
       "        <td>2</td>\n",
       "        <td>201</td>\n",
       "        <td>3.3</td>\n",
       "    </tr>\n",
       "    <tr>\n",
       "        <td>3</td>\n",
       "        <td>Ivan</td>\n",
       "        <td>Meshkov</td>\n",
       "        <td>1</td>\n",
       "        <td>101</td>\n",
       "        <td>4.5</td>\n",
       "    </tr>\n",
       "    <tr>\n",
       "        <td>4</td>\n",
       "        <td>Elena</td>\n",
       "        <td>Kvitova</td>\n",
       "        <td>2</td>\n",
       "        <td>301</td>\n",
       "        <td>4.8</td>\n",
       "    </tr>\n",
       "    <tr>\n",
       "        <td>5</td>\n",
       "        <td>Darya</td>\n",
       "        <td>Salnikova</td>\n",
       "        <td>2</td>\n",
       "        <td>202</td>\n",
       "        <td>3.4</td>\n",
       "    </tr>\n",
       "</table>"
      ],
      "text/plain": [
       "[(1, 'Anton', 'Sidorov', 1, '101', 3.5),\n",
       " (2, 'Alexey', 'Petrov', 2, '201', 3.3),\n",
       " (3, 'Ivan', 'Meshkov', 1, '101', 4.5),\n",
       " (4, 'Elena', 'Kvitova', 2, '301', 4.8),\n",
       " (5, 'Darya', 'Salnikova', 2, '202', 3.4)]"
      ]
     },
     "execution_count": 9,
     "metadata": {},
     "output_type": "execute_result"
    }
   ],
   "source": [
    "%sql select* from Students"
   ]
  },
  {
   "cell_type": "markdown",
   "metadata": {},
   "source": [
    "## Задание 1. Напишите SQL-запрос, возвращающий ваше имя"
   ]
  },
  {
   "cell_type": "code",
   "execution_count": 10,
   "metadata": {},
   "outputs": [
    {
     "name": "stdout",
     "output_type": "stream",
     "text": [
      " * sqlite:///tst_1.db\n",
      "Done.\n"
     ]
    },
    {
     "data": {
      "text/html": [
       "<table>\n",
       "    <tr>\n",
       "        <th>&#x27;sanya&#x27;</th>\n",
       "    </tr>\n",
       "    <tr>\n",
       "        <td>sanya</td>\n",
       "    </tr>\n",
       "</table>"
      ],
      "text/plain": [
       "[('sanya',)]"
      ]
     },
     "execution_count": 10,
     "metadata": {},
     "output_type": "execute_result"
    }
   ],
   "source": [
    "%sql select 'sanya'"
   ]
  },
  {
   "cell_type": "markdown",
   "metadata": {},
   "source": [
    "# Задание 2. Напишите SQL-запрос, возвращающий имена всех студентов с фамилией Sidorov"
   ]
  },
  {
   "cell_type": "code",
   "execution_count": 11,
   "metadata": {},
   "outputs": [
    {
     "name": "stdout",
     "output_type": "stream",
     "text": [
      " * sqlite:///tst_1.db\n",
      "Done.\n"
     ]
    },
    {
     "data": {
      "text/html": [
       "<table>\n",
       "    <tr>\n",
       "        <th>student_id</th>\n",
       "        <th>Name</th>\n",
       "        <th>SecondName</th>\n",
       "        <th>Faculty_id</th>\n",
       "        <th>StudyGroup</th>\n",
       "        <th>GPA</th>\n",
       "    </tr>\n",
       "    <tr>\n",
       "        <td>1</td>\n",
       "        <td>Anton</td>\n",
       "        <td>Sidorov</td>\n",
       "        <td>1</td>\n",
       "        <td>101</td>\n",
       "        <td>3.5</td>\n",
       "    </tr>\n",
       "</table>"
      ],
      "text/plain": [
       "[(1, 'Anton', 'Sidorov', 1, '101', 3.5)]"
      ]
     },
     "execution_count": 11,
     "metadata": {},
     "output_type": "execute_result"
    }
   ],
   "source": [
    "%%sql \n",
    "SELECT *\n",
    "  FROM Students\n",
    " WHERE SecondName = 'Sidorov'\n",
    "\n"
   ]
  },
  {
   "cell_type": "markdown",
   "metadata": {},
   "source": [
    "# Задание 3. Выведите все названия факультетов, на которых учится хотя бы один студент со средним баллом не менее 4. Имя факультета должно встречаться один раз в выводе"
   ]
  },
  {
   "cell_type": "code",
   "execution_count": 14,
   "metadata": {},
   "outputs": [
    {
     "name": "stdout",
     "output_type": "stream",
     "text": [
      " * sqlite:///tst_1.db\n",
      "Done.\n"
     ]
    },
    {
     "data": {
      "text/html": [
       "<table>\n",
       "    <tr>\n",
       "        <th>FName</th>\n",
       "    </tr>\n",
       "    <tr>\n",
       "        <td>KIB</td>\n",
       "    </tr>\n",
       "    <tr>\n",
       "        <td>IT</td>\n",
       "    </tr>\n",
       "</table>"
      ],
      "text/plain": [
       "[('KIB',), ('IT',)]"
      ]
     },
     "execution_count": 14,
     "metadata": {},
     "output_type": "execute_result"
    }
   ],
   "source": [
    "%%sql \n",
    "select distinct Fname\n",
    "from Faculties f\n",
    "join students s\n",
    "on f.id = s.Faculty_id\n",
    "where s.GPA >= 4;"
   ]
  },
  {
   "cell_type": "markdown",
   "metadata": {},
   "source": [
    "# Задание 4. Вывести только тех студентов, фамилия которых начинается с 'S', а в имени присутствует 'a'."
   ]
  },
  {
   "cell_type": "code",
   "execution_count": 13,
   "metadata": {},
   "outputs": [
    {
     "name": "stdout",
     "output_type": "stream",
     "text": [
      " * sqlite:///tst_1.db\n",
      "Done.\n"
     ]
    },
    {
     "data": {
      "text/html": [
       "<table>\n",
       "    <tr>\n",
       "        <th>student_id</th>\n",
       "        <th>Name</th>\n",
       "        <th>SecondName</th>\n",
       "        <th>Faculty_id</th>\n",
       "        <th>StudyGroup</th>\n",
       "        <th>GPA</th>\n",
       "    </tr>\n",
       "    <tr>\n",
       "        <td>5</td>\n",
       "        <td>Darya</td>\n",
       "        <td>Salnikova</td>\n",
       "        <td>2</td>\n",
       "        <td>202</td>\n",
       "        <td>3.4</td>\n",
       "    </tr>\n",
       "</table>"
      ],
      "text/plain": [
       "[(5, 'Darya', 'Salnikova', 2, '202', 3.4)]"
      ]
     },
     "execution_count": 13,
     "metadata": {},
     "output_type": "execute_result"
    }
   ],
   "source": [
    "%%sql \n",
    "select* \n",
    "from students\n",
    "where SecondName like 'S%'\n",
    "and name like '%a%'\n",
    "and name not like 'A%'"
   ]
  },
  {
   "cell_type": "markdown",
   "metadata": {},
   "source": [
    "# Задание 5. Вывести только те факультеты, количество групп в которых больше 3"
   ]
  },
  {
   "cell_type": "code",
   "execution_count": 130,
   "metadata": {},
   "outputs": [
    {
     "name": "stdout",
     "output_type": "stream",
     "text": [
      " * sqlite:///tst_1.db\n",
      "Done.\n"
     ]
    },
    {
     "data": {
      "text/html": [
       "<table>\n",
       "    <tr>\n",
       "        <th>FName</th>\n",
       "    </tr>\n",
       "    <tr>\n",
       "        <td>IT</td>\n",
       "    </tr>\n",
       "</table>"
      ],
      "text/plain": [
       "[('IT',)]"
      ]
     },
     "execution_count": 130,
     "metadata": {},
     "output_type": "execute_result"
    }
   ],
   "source": [
    "%%sql \n",
    "select F.Fname\n",
    "from Faculties f\n",
    "join students s\n",
    "on f.id = s.Faculty_id\n",
    "group by F.Fname,s.Faculty_id\n",
    "having count(StudyGroup)>=3 \n"
   ]
  },
  {
   "cell_type": "markdown",
   "metadata": {},
   "source": [
    "# Задание 6. Для всех факультетов вывести средний балл по факультету для студентов, чья фамилия не содержит в себе подстроку 'ov', при условии, что количество таких студентов на факультете не менее 3. В обратном случае, факультет выводить не требуется"
   ]
  },
  {
   "cell_type": "code",
   "execution_count": 95,
   "metadata": {},
   "outputs": [
    {
     "name": "stdout",
     "output_type": "stream",
     "text": [
      " * sqlite:///tst_1.db\n",
      "Done.\n"
     ]
    },
    {
     "data": {
      "text/html": [
       "<table>\n",
       "    <tr>\n",
       "        <th>avg(GPA)</th>\n",
       "        <th>id</th>\n",
       "    </tr>\n",
       "    <tr>\n",
       "        <td>3.8333333333333335</td>\n",
       "        <td>2</td>\n",
       "    </tr>\n",
       "</table>"
      ],
      "text/plain": [
       "[(3.8333333333333335, 2)]"
      ]
     },
     "execution_count": 95,
     "metadata": {},
     "output_type": "execute_result"
    }
   ],
   "source": [
    "%%sql \n",
    "select avg(GPA),f.id\n",
    "from students s\n",
    "join Faculties f\n",
    "on f.id = s.Faculty_id\n",
    "where SecondName like '%ov%'\n",
    "group by F.id\n",
    "having count(SecondName)>=3"
   ]
  },
  {
   "cell_type": "code",
   "execution_count": 23,
   "metadata": {},
   "outputs": [
    {
     "name": "stdout",
     "output_type": "stream",
     "text": [
      " * sqlite:///tst_1.db\n",
      "Done.\n"
     ]
    },
    {
     "data": {
      "text/html": [
       "<table>\n",
       "    <tr>\n",
       "        <th>id</th>\n",
       "        <th>gpa</th>\n",
       "    </tr>\n",
       "    <tr>\n",
       "        <td>1</td>\n",
       "        <td>4.0</td>\n",
       "    </tr>\n",
       "    <tr>\n",
       "        <td>2</td>\n",
       "        <td>3.8333333333333335</td>\n",
       "    </tr>\n",
       "</table>"
      ],
      "text/plain": [
       "[(1, 4.0), (2, 3.8333333333333335)]"
      ]
     },
     "execution_count": 23,
     "metadata": {},
     "output_type": "execute_result"
    }
   ],
   "source": [
    "%%sql \n",
    "select  f.id ,avg(gpa) as gpa\n",
    "    from students s\n",
    "      join Faculties f\n",
    "        on f.id = s.Faculty_id,   \n",
    "        (select count(a.student_id) as kolvo,b.id as id\n",
    "                from students a\n",
    "                    join Faculties b\n",
    "                    on b.id = a.Faculty_id\n",
    "                    group by b.id\n",
    "                    having count(a.student_id)<=20\n",
    "            ) huy\n",
    "where s.SecondName like '%ov%'\n",
    "group by f.id\n",
    "having count(s.student_id)>=3"
   ]
  },
  {
   "cell_type": "code",
   "execution_count": 137,
   "metadata": {},
   "outputs": [
    {
     "name": "stdout",
     "output_type": "stream",
     "text": [
      " * sqlite:///tst_1.db\n",
      "Done.\n"
     ]
    },
    {
     "data": {
      "text/html": [
       "<table>\n",
       "    <tr>\n",
       "        <th>id</th>\n",
       "        <th>NAME</th>\n",
       "    </tr>\n",
       "    <tr>\n",
       "        <td>1</td>\n",
       "        <td>Anton</td>\n",
       "    </tr>\n",
       "    <tr>\n",
       "        <td>1</td>\n",
       "        <td>Ivan</td>\n",
       "    </tr>\n",
       "    <tr>\n",
       "        <td>2</td>\n",
       "        <td>Alexey</td>\n",
       "    </tr>\n",
       "    <tr>\n",
       "        <td>2</td>\n",
       "        <td>Darya</td>\n",
       "    </tr>\n",
       "    <tr>\n",
       "        <td>2</td>\n",
       "        <td>Elena</td>\n",
       "    </tr>\n",
       "    <tr>\n",
       "        <td>3</td>\n",
       "        <td>net</td>\n",
       "    </tr>\n",
       "</table>"
      ],
      "text/plain": [
       "[(1, 'Anton'),\n",
       " (1, 'Ivan'),\n",
       " (2, 'Alexey'),\n",
       " (2, 'Darya'),\n",
       " (2, 'Elena'),\n",
       " (3, 'net')]"
      ]
     },
     "execution_count": 137,
     "metadata": {},
     "output_type": "execute_result"
    }
   ],
   "source": [
    "%%sql \n",
    "select f.id,\n",
    "\n",
    "case\n",
    "WHEN NAME is null\n",
    "then \"net\"\n",
    "else Name\n",
    "end NAME\n",
    "\n",
    "from Faculties f\n",
    "left join students s\n",
    "on f.id = s.Faculty_id"
   ]
  },
  {
   "cell_type": "code",
   "execution_count": 139,
   "metadata": {},
   "outputs": [
    {
     "name": "stdout",
     "output_type": "stream",
     "text": [
      " * sqlite:///tst_1.db\n",
      "3 rows affected.\n"
     ]
    },
    {
     "data": {
      "text/plain": [
       "[]"
      ]
     },
     "execution_count": 139,
     "metadata": {},
     "output_type": "execute_result"
    }
   ],
   "source": [
    "%%sql \n",
    "update students\n",
    "set StudyGroup = 10000\n",
    "where faculty_id is 2\n"
   ]
  },
  {
   "cell_type": "code",
   "execution_count": 138,
   "metadata": {},
   "outputs": [
    {
     "name": "stdout",
     "output_type": "stream",
     "text": [
      " * sqlite:///tst_1.db\n",
      "Done.\n"
     ]
    },
    {
     "data": {
      "text/html": [
       "<table>\n",
       "    <tr>\n",
       "        <th>id</th>\n",
       "        <th>FName</th>\n",
       "        <th>student_id</th>\n",
       "        <th>Name</th>\n",
       "        <th>SecondName</th>\n",
       "        <th>Faculty_id</th>\n",
       "        <th>StudyGroup</th>\n",
       "        <th>GPA</th>\n",
       "    </tr>\n",
       "    <tr>\n",
       "        <td>1</td>\n",
       "        <td>KIB</td>\n",
       "        <td>1</td>\n",
       "        <td>Anton</td>\n",
       "        <td>Sidorov</td>\n",
       "        <td>1</td>\n",
       "        <td>101</td>\n",
       "        <td>3.5</td>\n",
       "    </tr>\n",
       "    <tr>\n",
       "        <td>1</td>\n",
       "        <td>KIB</td>\n",
       "        <td>3</td>\n",
       "        <td>Ivan</td>\n",
       "        <td>Meshkov</td>\n",
       "        <td>1</td>\n",
       "        <td>101</td>\n",
       "        <td>4.5</td>\n",
       "    </tr>\n",
       "    <tr>\n",
       "        <td>2</td>\n",
       "        <td>IT</td>\n",
       "        <td>2</td>\n",
       "        <td>Alexey</td>\n",
       "        <td>Petrov</td>\n",
       "        <td>2</td>\n",
       "        <td>10000</td>\n",
       "        <td>3.3</td>\n",
       "    </tr>\n",
       "    <tr>\n",
       "        <td>2</td>\n",
       "        <td>IT</td>\n",
       "        <td>5</td>\n",
       "        <td>Darya</td>\n",
       "        <td>Salnikova</td>\n",
       "        <td>2</td>\n",
       "        <td>10000</td>\n",
       "        <td>3.4</td>\n",
       "    </tr>\n",
       "    <tr>\n",
       "        <td>2</td>\n",
       "        <td>IT</td>\n",
       "        <td>4</td>\n",
       "        <td>Elena</td>\n",
       "        <td>Kvitova</td>\n",
       "        <td>2</td>\n",
       "        <td>10000</td>\n",
       "        <td>4.8</td>\n",
       "    </tr>\n",
       "    <tr>\n",
       "        <td>3</td>\n",
       "        <td>Economics</td>\n",
       "        <td>None</td>\n",
       "        <td>None</td>\n",
       "        <td>None</td>\n",
       "        <td>None</td>\n",
       "        <td>None</td>\n",
       "        <td>None</td>\n",
       "    </tr>\n",
       "</table>"
      ],
      "text/plain": [
       "[(1, 'KIB', 1, 'Anton', 'Sidorov', 1, '101', 3.5),\n",
       " (1, 'KIB', 3, 'Ivan', 'Meshkov', 1, '101', 4.5),\n",
       " (2, 'IT', 2, 'Alexey', 'Petrov', 2, '10000', 3.3),\n",
       " (2, 'IT', 5, 'Darya', 'Salnikova', 2, '10000', 3.4),\n",
       " (2, 'IT', 4, 'Elena', 'Kvitova', 2, '10000', 4.8),\n",
       " (3, 'Economics', None, None, None, None, None, None)]"
      ]
     },
     "execution_count": 138,
     "metadata": {},
     "output_type": "execute_result"
    }
   ],
   "source": [
    "%%sql\n",
    "select*\n",
    "from Faculties f\n",
    "left join students s\n",
    "on f.id = s.Faculty_id"
   ]
  },
  {
   "cell_type": "code",
   "execution_count": null,
   "metadata": {},
   "outputs": [],
   "source": []
  }
 ],
 "metadata": {
  "kernelspec": {
   "display_name": "Python 3",
   "language": "python",
   "name": "python3"
  },
  "language_info": {
   "codemirror_mode": {
    "name": "ipython",
    "version": 3
   },
   "file_extension": ".py",
   "mimetype": "text/x-python",
   "name": "python",
   "nbconvert_exporter": "python",
   "pygments_lexer": "ipython3",
   "version": "3.7.3"
  }
 },
 "nbformat": 4,
 "nbformat_minor": 2
}
