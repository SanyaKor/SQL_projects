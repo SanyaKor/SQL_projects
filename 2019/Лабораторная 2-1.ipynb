{
 "cells": [
  {
   "cell_type": "code",
   "execution_count": 2,
   "metadata": {},
   "outputs": [
    {
     "data": {
      "text/plain": [
       "'Connected: @chinook.db'"
      ]
     },
     "execution_count": 2,
     "metadata": {},
     "output_type": "execute_result"
    }
   ],
   "source": [
    "%load_ext sql\n",
    "%sql sqlite:///chinook.db"
   ]
  },
  {
   "cell_type": "markdown",
   "metadata": {},
   "source": [
    "# Задание 1\n",
    "\n",
    "Вывести 10 самых больших по размеру треков жанра ROCK и формата MPEG (исоп"
   ]
  },
  {
   "cell_type": "code",
   "execution_count": 6,
   "metadata": {},
   "outputs": [
    {
     "name": "stdout",
     "output_type": "stream",
     "text": [
      " * sqlite:///chinook.db\n",
      "Done.\n"
     ]
    },
    {
     "data": {
      "text/html": [
       "<table>\n",
       "    <tr>\n",
       "        <th>Name</th>\n",
       "    </tr>\n",
       "    <tr>\n",
       "        <td>Through a Looking Glass</td>\n",
       "    </tr>\n",
       "    <tr>\n",
       "        <td>Occupation / Precipice</td>\n",
       "    </tr>\n",
       "    <tr>\n",
       "        <td>The Young Lords</td>\n",
       "    </tr>\n",
       "    <tr>\n",
       "        <td>The Man With Nine Lives</td>\n",
       "    </tr>\n",
       "    <tr>\n",
       "        <td>Dave</td>\n",
       "    </tr>\n",
       "    <tr>\n",
       "        <td>The Magnificent Warriors</td>\n",
       "    </tr>\n",
       "    <tr>\n",
       "        <td>The Lost Warrior</td>\n",
       "    </tr>\n",
       "    <tr>\n",
       "        <td>Maternity Leave</td>\n",
       "    </tr>\n",
       "    <tr>\n",
       "        <td>Battlestar Galactica, Pt. 3</td>\n",
       "    </tr>\n",
       "    <tr>\n",
       "        <td>The Woman King</td>\n",
       "    </tr>\n",
       "</table>"
      ],
      "text/plain": [
       "[('Through a Looking Glass',),\n",
       " ('Occupation / Precipice',),\n",
       " ('The Young Lords',),\n",
       " ('The Man With Nine Lives',),\n",
       " ('Dave',),\n",
       " ('The Magnificent Warriors',),\n",
       " ('The Lost Warrior',),\n",
       " ('Maternity Leave',),\n",
       " ('Battlestar Galactica, Pt. 3',),\n",
       " ('The Woman King',)]"
      ]
     },
     "execution_count": 6,
     "metadata": {},
     "output_type": "execute_result"
    }
   ],
   "source": [
    "%%sql\n",
    "SELECT t.Name\n",
    "FROM tracks t\n",
    "join media_types m\n",
    "on t.MediaTypeId = m.MediaTypeId\n",
    "order by t.Bytes\n",
    "desc limit 10"
   ]
  },
  {
   "cell_type": "markdown",
   "metadata": {},
   "source": [
    "## Задание 2\n",
    "Вывести названия всех групп, их песен и названия их альбомов для всех треков жанра Рок, приобретенные сотрудниками Microsoft."
   ]
  },
  {
   "cell_type": "code",
   "execution_count": 4,
   "metadata": {},
   "outputs": [
    {
     "name": "stdout",
     "output_type": "stream",
     "text": [
      " * sqlite:///chinook.db\n",
      "Done.\n"
     ]
    },
    {
     "data": {
      "text/html": [
       "<table>\n",
       "    <tr>\n",
       "        <th>Name</th>\n",
       "        <th>Title</th>\n",
       "        <th>Name_1</th>\n",
       "        <th>Name_2</th>\n",
       "        <th>Company</th>\n",
       "    </tr>\n",
       "    <tr>\n",
       "        <td>Guns N&#x27; Roses</td>\n",
       "        <td>Use Your Illusion I</td>\n",
       "        <td>Double Talkin&#x27; Jive</td>\n",
       "        <td>Rock</td>\n",
       "        <td>Microsoft Corporation</td>\n",
       "    </tr>\n",
       "    <tr>\n",
       "        <td>Guns N&#x27; Roses</td>\n",
       "        <td>Use Your Illusion I</td>\n",
       "        <td>The Garden</td>\n",
       "        <td>Rock</td>\n",
       "        <td>Microsoft Corporation</td>\n",
       "    </tr>\n",
       "    <tr>\n",
       "        <td>Guns N&#x27; Roses</td>\n",
       "        <td>Use Your Illusion I</td>\n",
       "        <td>Don&#x27;t Damn Me</td>\n",
       "        <td>Rock</td>\n",
       "        <td>Microsoft Corporation</td>\n",
       "    </tr>\n",
       "    <tr>\n",
       "        <td>Guns N&#x27; Roses</td>\n",
       "        <td>Use Your Illusion I</td>\n",
       "        <td>Dead Horse</td>\n",
       "        <td>Rock</td>\n",
       "        <td>Microsoft Corporation</td>\n",
       "    </tr>\n",
       "    <tr>\n",
       "        <td>Foo Fighters</td>\n",
       "        <td>In Your Honor [Disc 1]</td>\n",
       "        <td>No Way Back</td>\n",
       "        <td>Rock</td>\n",
       "        <td>Microsoft Corporation</td>\n",
       "    </tr>\n",
       "    <tr>\n",
       "        <td>Foo Fighters</td>\n",
       "        <td>In Your Honor [Disc 2]</td>\n",
       "        <td>Still</td>\n",
       "        <td>Rock</td>\n",
       "        <td>Microsoft Corporation</td>\n",
       "    </tr>\n",
       "    <tr>\n",
       "        <td>Foo Fighters</td>\n",
       "        <td>In Your Honor [Disc 2]</td>\n",
       "        <td>Razor</td>\n",
       "        <td>Rock</td>\n",
       "        <td>Microsoft Corporation</td>\n",
       "    </tr>\n",
       "    <tr>\n",
       "        <td>Foo Fighters</td>\n",
       "        <td>The Colour And The Shape</td>\n",
       "        <td>My Hero</td>\n",
       "        <td>Rock</td>\n",
       "        <td>Microsoft Corporation</td>\n",
       "    </tr>\n",
       "</table>"
      ],
      "text/plain": [
       "[(\"Guns N' Roses\", 'Use Your Illusion I', \"Double Talkin' Jive\", 'Rock', 'Microsoft Corporation'),\n",
       " (\"Guns N' Roses\", 'Use Your Illusion I', 'The Garden', 'Rock', 'Microsoft Corporation'),\n",
       " (\"Guns N' Roses\", 'Use Your Illusion I', \"Don't Damn Me\", 'Rock', 'Microsoft Corporation'),\n",
       " (\"Guns N' Roses\", 'Use Your Illusion I', 'Dead Horse', 'Rock', 'Microsoft Corporation'),\n",
       " ('Foo Fighters', 'In Your Honor [Disc 1]', 'No Way Back', 'Rock', 'Microsoft Corporation'),\n",
       " ('Foo Fighters', 'In Your Honor [Disc 2]', 'Still', 'Rock', 'Microsoft Corporation'),\n",
       " ('Foo Fighters', 'In Your Honor [Disc 2]', 'Razor', 'Rock', 'Microsoft Corporation'),\n",
       " ('Foo Fighters', 'The Colour And The Shape', 'My Hero', 'Rock', 'Microsoft Corporation')]"
      ]
     },
     "execution_count": 4,
     "metadata": {},
     "output_type": "execute_result"
    }
   ],
   "source": [
    "%%sql select  distinct ar.Name,a.Title,t.Name,g.Name,c.company\n",
    "from customers c\n",
    "join invoices i\n",
    "on i.Customerid = c.Customerid\n",
    "join invoice_items i_s\n",
    "on i_s.Invoiceid = i.Invoiceid\n",
    "join tracks t\n",
    "on t.Trackid = i_s.Trackid\n",
    "join genres g\n",
    "on t.Genreid = g.Genreid\n",
    "join albums a\n",
    "on a.Albumid = t.Albumid\n",
    "join artists ar\n",
    "on ar.Artistid = a.Artistid\n",
    "where g.Name like 'Rock'\n",
    "and c.company like 'Microsoft Corporation'"
   ]
  },
  {
   "cell_type": "markdown",
   "metadata": {},
   "source": [
    "## Задание 3\n",
    "Для каждого набора (жанр, тип медиа) вывести среднюю цену по стоимости трека и общее количество, причем вывести только те наборы, для которых все треки стоят больше 1,5$.\n"
   ]
  },
  {
   "cell_type": "code",
   "execution_count": 13,
   "metadata": {},
   "outputs": [
    {
     "name": "stdout",
     "output_type": "stream",
     "text": [
      " * sqlite:///chinook.db\n",
      "Done.\n"
     ]
    },
    {
     "data": {
      "text/html": [
       "<table>\n",
       "    <tr>\n",
       "        <th>Genreid</th>\n",
       "        <th>MediaTypeid</th>\n",
       "        <th>sredPRICE</th>\n",
       "        <th>AMOUNT</th>\n",
       "    </tr>\n",
       "    <tr>\n",
       "        <td>18</td>\n",
       "        <td>3</td>\n",
       "        <td>1.9899999999999995</td>\n",
       "        <td>13</td>\n",
       "    </tr>\n",
       "    <tr>\n",
       "        <td>19</td>\n",
       "        <td>3</td>\n",
       "        <td>1.990000000000001</td>\n",
       "        <td>93</td>\n",
       "    </tr>\n",
       "    <tr>\n",
       "        <td>20</td>\n",
       "        <td>3</td>\n",
       "        <td>1.9900000000000004</td>\n",
       "        <td>26</td>\n",
       "    </tr>\n",
       "    <tr>\n",
       "        <td>21</td>\n",
       "        <td>3</td>\n",
       "        <td>1.9899999999999978</td>\n",
       "        <td>64</td>\n",
       "    </tr>\n",
       "    <tr>\n",
       "        <td>22</td>\n",
       "        <td>3</td>\n",
       "        <td>1.9899999999999995</td>\n",
       "        <td>17</td>\n",
       "    </tr>\n",
       "</table>"
      ],
      "text/plain": [
       "[(18, 3, 1.9899999999999995, 13),\n",
       " (19, 3, 1.990000000000001, 93),\n",
       " (20, 3, 1.9900000000000004, 26),\n",
       " (21, 3, 1.9899999999999978, 64),\n",
       " (22, 3, 1.9899999999999995, 17)]"
      ]
     },
     "execution_count": 13,
     "metadata": {},
     "output_type": "execute_result"
    }
   ],
   "source": [
    "%%sql\n",
    "select coco.genreid,coco.mediatypeid,coco.sredprice,coco.amount from(select MG.Genreid,\n",
    "MG.MediaTypeid,avg(t.unitprice) as sredPRICE,count(t.trackid) as AMOUNT \n",
    "from (media_types,genres) MG\n",
    "join tracks t\n",
    "ON t.MediaTypeid=MG.MediaTypeid\n",
    "AND t.Genreid=MG.Genreid\n",
    "group by MG.mediatypeid,MG.genreid\n",
    "having(min(T.unitprice)>1.5))coco\n",
    "join genres g \n",
    "on coco.genreid = g.genreid\n",
    "join media_types m\n",
    "on m.mediatypeid = coco.mediatypeid"
   ]
  },
  {
   "cell_type": "markdown",
   "metadata": {},
   "source": [
    "## Задание 4\n",
    "Вывести компании, сделавшие максимальное и минимальное число заказов. Необходимо исключить клиентов без компании (NULL)"
   ]
  },
  {
   "cell_type": "code",
   "execution_count": 3,
   "metadata": {},
   "outputs": [
    {
     "name": "stdout",
     "output_type": "stream",
     "text": [
      " * sqlite:///chinook.db\n",
      "Done.\n"
     ]
    },
    {
     "data": {
      "text/html": [
       "<table>\n",
       "    <tr>\n",
       "        <th>Company</th>\n",
       "        <th>Kolvo</th>\n",
       "    </tr>\n",
       "    <tr>\n",
       "        <td>Apple Inc.</td>\n",
       "        <td>7</td>\n",
       "    </tr>\n",
       "    <tr>\n",
       "        <td>Banco do Brasil S.A.</td>\n",
       "        <td>7</td>\n",
       "    </tr>\n",
       "    <tr>\n",
       "        <td>Embraer - Empresa Brasileira de Aeronáutica S.A.</td>\n",
       "        <td>7</td>\n",
       "    </tr>\n",
       "    <tr>\n",
       "        <td>Google Inc.</td>\n",
       "        <td>7</td>\n",
       "    </tr>\n",
       "    <tr>\n",
       "        <td>JetBrains s.r.o.</td>\n",
       "        <td>7</td>\n",
       "    </tr>\n",
       "    <tr>\n",
       "        <td>Microsoft Corporation</td>\n",
       "        <td>7</td>\n",
       "    </tr>\n",
       "    <tr>\n",
       "        <td>Riotur</td>\n",
       "        <td>7</td>\n",
       "    </tr>\n",
       "    <tr>\n",
       "        <td>Rogers Canada</td>\n",
       "        <td>7</td>\n",
       "    </tr>\n",
       "    <tr>\n",
       "        <td>Telus</td>\n",
       "        <td>7</td>\n",
       "    </tr>\n",
       "    <tr>\n",
       "        <td>Woodstock Discos</td>\n",
       "        <td>7</td>\n",
       "    </tr>\n",
       "</table>"
      ],
      "text/plain": [
       "[('Apple Inc.', 7),\n",
       " ('Banco do Brasil S.A.', 7),\n",
       " ('Embraer - Empresa Brasileira de Aeronáutica S.A.', 7),\n",
       " ('Google Inc.', 7),\n",
       " ('JetBrains s.r.o.', 7),\n",
       " ('Microsoft Corporation', 7),\n",
       " ('Riotur', 7),\n",
       " ('Rogers Canada', 7),\n",
       " ('Telus', 7),\n",
       " ('Woodstock Discos', 7)]"
      ]
     },
     "execution_count": 3,
     "metadata": {},
     "output_type": "execute_result"
    }
   ],
   "source": [
    "%%sql\n",
    "select c.company,count(i.invoiceid) as Kolvo\n",
    "from customers c\n",
    "join invoices i\n",
    "on c.customerid = i.customerid,\n",
    "    (\n",
    "     select max(kolvo) as Max_KOLVO,min(kolvo) as Min_KOLVO\n",
    "     from(\n",
    "            select c.company as comp,count(i.invoiceid) as kolvo\n",
    "                    from customers c\n",
    "                    join invoices i\n",
    "                    on c.customerid = i.customerid\n",
    "                    where c.company is not NULL\n",
    "                group by company\n",
    "         )\n",
    "    coco\n",
    "    )\n",
    "maxmin\n",
    "where c.company is not NULL\n",
    "group by company,Max_KOLVO,Min_KOLVO\n",
    "having count(i.invoiceid) = Max_KOLVO\n",
    "or count(i.invoiceid) = Min_KOLVO"
   ]
  },
  {
   "cell_type": "markdown",
   "metadata": {},
   "source": [
    "## Задание 5\n",
    "Для каждой компании вывести общее количестов песен, купленных по жанру поп-музыки"
   ]
  },
  {
   "cell_type": "code",
   "execution_count": 39,
   "metadata": {},
   "outputs": [
    {
     "name": "stdout",
     "output_type": "stream",
     "text": [
      " * sqlite:///chinook.db\n",
      "Done.\n"
     ]
    },
    {
     "data": {
      "text/html": [
       "<table>\n",
       "    <tr>\n",
       "        <th>Company</th>\n",
       "        <th>kolvo</th>\n",
       "    </tr>\n",
       "    <tr>\n",
       "        <td>None</td>\n",
       "        <td>22</td>\n",
       "    </tr>\n",
       "    <tr>\n",
       "        <td>Embraer - Empresa Brasileira de Aeronáutica S.A.</td>\n",
       "        <td>2</td>\n",
       "    </tr>\n",
       "    <tr>\n",
       "        <td>JetBrains s.r.o.</td>\n",
       "        <td>4</td>\n",
       "    </tr>\n",
       "</table>"
      ],
      "text/plain": [
       "[(None, 22),\n",
       " ('Embraer - Empresa Brasileira de Aeronáutica S.A.', 2),\n",
       " ('JetBrains s.r.o.', 4)]"
      ]
     },
     "execution_count": 39,
     "metadata": {},
     "output_type": "execute_result"
    }
   ],
   "source": [
    "%%sql\n",
    "select company,count(i.invoiceid) as kolvo\n",
    "from customers c\n",
    "join invoices i\n",
    "on c.customerid = i.customerid\n",
    "join invoice_items ii \n",
    "on i.invoiceid = ii.invoiceid\n",
    "join tracks t \n",
    "on ii.trackid = t.trackid\n",
    "join genres g\n",
    "on t.genreid = g.genreid\n",
    "where g.name like 'pop' \n",
    "group by company,g.name"
   ]
  },
  {
   "cell_type": "markdown",
   "metadata": {},
   "source": [
    "## Задание 6\n",
    "Вывести средний размер альбома в байтах."
   ]
  },
  {
   "cell_type": "code",
   "execution_count": 96,
   "metadata": {},
   "outputs": [
    {
     "name": "stdout",
     "output_type": "stream",
     "text": [
      " * sqlite:///chinook.db\n",
      "Done.\n"
     ]
    },
    {
     "data": {
      "text/html": [
       "<table>\n",
       "    <tr>\n",
       "        <th>avg(koko.kolvo)</th>\n",
       "    </tr>\n",
       "    <tr>\n",
       "        <td>338288920.3170029</td>\n",
       "    </tr>\n",
       "</table>"
      ],
      "text/plain": [
       "[(338288920.3170029,)]"
      ]
     },
     "execution_count": 96,
     "metadata": {},
     "output_type": "execute_result"
    }
   ],
   "source": [
    "%%sql\n",
    "select avg(koko.kolvo)\n",
    "from(\n",
    "    select t.albumid album,sum(t.bytes) as kolvo\n",
    "    from tracks t\n",
    "    join albums using(albumid)      \n",
    "    group by albumid\n",
    ")koko"
   ]
  },
  {
   "cell_type": "code",
   "execution_count": null,
   "metadata": {},
   "outputs": [],
   "source": []
  }
 ],
 "metadata": {
  "kernelspec": {
   "display_name": "Python 3",
   "language": "python",
   "name": "python3"
  },
  "language_info": {
   "codemirror_mode": {
    "name": "ipython",
    "version": 3
   },
   "file_extension": ".py",
   "mimetype": "text/x-python",
   "name": "python",
   "nbconvert_exporter": "python",
   "pygments_lexer": "ipython3",
   "version": "3.7.3"
  }
 },
 "nbformat": 4,
 "nbformat_minor": 2
}
